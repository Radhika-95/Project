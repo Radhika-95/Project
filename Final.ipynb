{
 "cells": [
  {
   "cell_type": "code",
   "execution_count": 1,
   "id": "38c845ba",
   "metadata": {},
   "outputs": [],
   "source": [
    "import pandas as pd\n",
    "from sklearn import datasets\n",
    "from sklearn.metrics import confusion_matrix\n",
    "from sklearn.model_selection import train_test_split\n",
    "import numpy as np"
   ]
  },
  {
   "cell_type": "code",
   "execution_count": 2,
   "id": "dd12bb06",
   "metadata": {
    "scrolled": true
   },
   "outputs": [
    {
     "name": "stdout",
     "output_type": "stream",
     "text": [
      "                ID  Severity           Start_Time             End_Time  \\\n",
      "0              A-1         3  2016-02-08 00:37:08  2016-02-08 06:37:08   \n",
      "1              A-2         2  2016-02-08 05:56:20  2016-02-08 11:56:20   \n",
      "2              A-3         2  2016-02-08 06:15:39  2016-02-08 12:15:39   \n",
      "3              A-4         2  2016-02-08 06:51:45  2016-02-08 12:51:45   \n",
      "4              A-5         3  2016-02-08 07:53:43  2016-02-08 13:53:43   \n",
      "...            ...       ...                  ...                  ...   \n",
      "2845337  A-2845338         2  2019-08-23 18:03:25  2019-08-23 18:32:01   \n",
      "2845338  A-2845339         2  2019-08-23 19:11:30  2019-08-23 19:38:23   \n",
      "2845339  A-2845340         2  2019-08-23 19:00:21  2019-08-23 19:28:49   \n",
      "2845340  A-2845341         2  2019-08-23 19:00:21  2019-08-23 19:29:42   \n",
      "2845341  A-2845342         2  2019-08-23 18:52:06  2019-08-23 19:21:31   \n",
      "\n",
      "         Start_Lat   Start_Lng    End_Lat     End_Lng  Distance(mi)  \\\n",
      "0        40.108910  -83.092860  40.112060  -83.031870         3.230   \n",
      "1        39.865420  -84.062800  39.865010  -84.048730         0.747   \n",
      "2        39.102660  -84.524680  39.102090  -84.523960         0.055   \n",
      "3        41.062130  -81.537840  41.062170  -81.535470         0.123   \n",
      "4        39.172393  -84.492792  39.170476  -84.501798         0.500   \n",
      "...            ...         ...        ...         ...           ...   \n",
      "2845337  34.002480 -117.379360  33.998880 -117.370940         0.543   \n",
      "2845338  32.766960 -117.148060  32.765550 -117.153630         0.338   \n",
      "2845339  33.775450 -117.847790  33.777400 -117.857270         0.561   \n",
      "2845340  33.992460 -118.403020  33.983110 -118.395650         0.772   \n",
      "2845341  34.133930 -117.230920  34.137360 -117.239340         0.537   \n",
      "\n",
      "                                               Description  ...  Roundabout  \\\n",
      "0        Between Sawmill Rd/Exit 20 and OH-315/Olentang...  ...       False   \n",
      "1                       At OH-4/OH-235/Exit 41 - Accident.  ...       False   \n",
      "2                         At I-71/US-50/Exit 1 - Accident.  ...       False   \n",
      "3                          At Dart Ave/Exit 21 - Accident.  ...       False   \n",
      "4                       At Mitchell Ave/Exit 6 - Accident.  ...       False   \n",
      "...                                                    ...  ...         ...   \n",
      "2845337                           At Market St - Accident.  ...       False   \n",
      "2845338    At Camino Del Rio/Mission Center Rd - Accident.  ...       False   \n",
      "2845339  At Glassell St/Grand Ave - Accident. in the ri...  ...       False   \n",
      "2845340     At CA-90/Marina Fwy/Jefferson Blvd - Accident.  ...       False   \n",
      "2845341              At Highland Ave/Arden Ave - Accident.  ...       False   \n",
      "\n",
      "        Station   Stop Traffic_Calming Traffic_Signal Turning_Loop  \\\n",
      "0         False  False           False          False        False   \n",
      "1         False  False           False          False        False   \n",
      "2         False  False           False          False        False   \n",
      "3         False  False           False          False        False   \n",
      "4         False  False           False          False        False   \n",
      "...         ...    ...             ...            ...          ...   \n",
      "2845337   False  False           False          False        False   \n",
      "2845338   False  False           False          False        False   \n",
      "2845339   False  False           False          False        False   \n",
      "2845340   False  False           False          False        False   \n",
      "2845341   False  False           False          False        False   \n",
      "\n",
      "        Sunrise_Sunset Civil_Twilight Nautical_Twilight Astronomical_Twilight  \n",
      "0                Night          Night             Night                 Night  \n",
      "1                Night          Night             Night                 Night  \n",
      "2                Night          Night             Night                   Day  \n",
      "3                Night          Night               Day                   Day  \n",
      "4                  Day            Day               Day                   Day  \n",
      "...                ...            ...               ...                   ...  \n",
      "2845337            Day            Day               Day                   Day  \n",
      "2845338            Day            Day               Day                   Day  \n",
      "2845339            Day            Day               Day                   Day  \n",
      "2845340            Day            Day               Day                   Day  \n",
      "2845341            Day            Day               Day                   Day  \n",
      "\n",
      "[2845342 rows x 47 columns]\n"
     ]
    }
   ],
   "source": [
    "df = pd.read_csv('US_Accidents_Dec21_updated.csv')\n",
    "print(df)"
   ]
  },
  {
   "cell_type": "code",
   "execution_count": 3,
   "id": "53beb59e",
   "metadata": {
    "scrolled": true
   },
   "outputs": [
    {
     "data": {
      "text/plain": [
       "0          1.0\n",
       "1          1.0\n",
       "2          1.0\n",
       "3          1.0\n",
       "4          1.0\n",
       "          ... \n",
       "2845337    1.0\n",
       "2845338    1.0\n",
       "2845339    1.0\n",
       "2845340    1.0\n",
       "2845341    1.0\n",
       "Name: Side, Length: 2845342, dtype: float64"
      ]
     },
     "execution_count": 3,
     "metadata": {},
     "output_type": "execute_result"
    }
   ],
   "source": [
    "df['Side'] = df['Side'].map({'R':1, 'L':0})\n",
    "df['Side']"
   ]
  },
  {
   "cell_type": "code",
   "execution_count": 4,
   "id": "afb1a797",
   "metadata": {},
   "outputs": [],
   "source": [
    "df.dropna(inplace=True)"
   ]
  },
  {
   "cell_type": "code",
   "execution_count": 5,
   "id": "d2f6bc2c",
   "metadata": {},
   "outputs": [
    {
     "name": "stdout",
     "output_type": "stream",
     "text": [
      "0\n"
     ]
    }
   ],
   "source": [
    "check_nan = df.isnull().values.sum()\n",
    "print(check_nan)"
   ]
  },
  {
   "cell_type": "code",
   "execution_count": 6,
   "id": "133b66d8",
   "metadata": {},
   "outputs": [
    {
     "data": {
      "text/html": [
       "<div>\n",
       "<style scoped>\n",
       "    .dataframe tbody tr th:only-of-type {\n",
       "        vertical-align: middle;\n",
       "    }\n",
       "\n",
       "    .dataframe tbody tr th {\n",
       "        vertical-align: top;\n",
       "    }\n",
       "\n",
       "    .dataframe thead th {\n",
       "        text-align: right;\n",
       "    }\n",
       "</style>\n",
       "<table border=\"1\" class=\"dataframe\">\n",
       "  <thead>\n",
       "    <tr style=\"text-align: right;\">\n",
       "      <th></th>\n",
       "      <th>Severity</th>\n",
       "      <th>Start_Time</th>\n",
       "      <th>End_Time</th>\n",
       "      <th>Start_Lat</th>\n",
       "      <th>Start_Lng</th>\n",
       "      <th>End_Lat</th>\n",
       "      <th>End_Lng</th>\n",
       "      <th>Distance(mi)</th>\n",
       "      <th>Number</th>\n",
       "      <th>Side</th>\n",
       "      <th>Zipcode</th>\n",
       "    </tr>\n",
       "  </thead>\n",
       "  <tbody>\n",
       "    <tr>\n",
       "      <th>42</th>\n",
       "      <td>4</td>\n",
       "      <td>2016-02-09 18:20:58</td>\n",
       "      <td>2016-02-10 00:20:58</td>\n",
       "      <td>40.45112</td>\n",
       "      <td>-85.15048</td>\n",
       "      <td>40.35429</td>\n",
       "      <td>-85.14993</td>\n",
       "      <td>6.690</td>\n",
       "      <td>9001.0</td>\n",
       "      <td>1.0</td>\n",
       "      <td>47336</td>\n",
       "    </tr>\n",
       "    <tr>\n",
       "      <th>43</th>\n",
       "      <td>4</td>\n",
       "      <td>2016-02-09 18:20:58</td>\n",
       "      <td>2016-02-10 00:20:58</td>\n",
       "      <td>40.35429</td>\n",
       "      <td>-85.14993</td>\n",
       "      <td>40.45112</td>\n",
       "      <td>-85.15048</td>\n",
       "      <td>6.690</td>\n",
       "      <td>473.0</td>\n",
       "      <td>1.0</td>\n",
       "      <td>47373-9430</td>\n",
       "    </tr>\n",
       "    <tr>\n",
       "      <th>47</th>\n",
       "      <td>4</td>\n",
       "      <td>2016-02-10 06:18:49</td>\n",
       "      <td>2016-02-10 12:18:49</td>\n",
       "      <td>40.72813</td>\n",
       "      <td>-84.78965</td>\n",
       "      <td>40.74559</td>\n",
       "      <td>-84.78962</td>\n",
       "      <td>1.206</td>\n",
       "      <td>12998.0</td>\n",
       "      <td>1.0</td>\n",
       "      <td>45898-9523</td>\n",
       "    </tr>\n",
       "    <tr>\n",
       "      <th>50</th>\n",
       "      <td>2</td>\n",
       "      <td>2016-02-10 08:35:27</td>\n",
       "      <td>2016-02-10 14:35:27</td>\n",
       "      <td>41.83193</td>\n",
       "      <td>-80.10143</td>\n",
       "      <td>41.84149</td>\n",
       "      <td>-80.11099</td>\n",
       "      <td>0.824</td>\n",
       "      <td>25529.0</td>\n",
       "      <td>0.0</td>\n",
       "      <td>16403</td>\n",
       "    </tr>\n",
       "    <tr>\n",
       "      <th>66</th>\n",
       "      <td>2</td>\n",
       "      <td>2016-02-10 12:54:39</td>\n",
       "      <td>2016-02-10 18:54:39</td>\n",
       "      <td>41.48339</td>\n",
       "      <td>-81.66297</td>\n",
       "      <td>41.47692</td>\n",
       "      <td>-81.66075</td>\n",
       "      <td>0.462</td>\n",
       "      <td>3937.0</td>\n",
       "      <td>0.0</td>\n",
       "      <td>44115</td>\n",
       "    </tr>\n",
       "  </tbody>\n",
       "</table>\n",
       "</div>"
      ],
      "text/plain": [
       "    Severity           Start_Time             End_Time  Start_Lat  Start_Lng  \\\n",
       "42         4  2016-02-09 18:20:58  2016-02-10 00:20:58   40.45112  -85.15048   \n",
       "43         4  2016-02-09 18:20:58  2016-02-10 00:20:58   40.35429  -85.14993   \n",
       "47         4  2016-02-10 06:18:49  2016-02-10 12:18:49   40.72813  -84.78965   \n",
       "50         2  2016-02-10 08:35:27  2016-02-10 14:35:27   41.83193  -80.10143   \n",
       "66         2  2016-02-10 12:54:39  2016-02-10 18:54:39   41.48339  -81.66297   \n",
       "\n",
       "     End_Lat   End_Lng  Distance(mi)   Number  Side     Zipcode  \n",
       "42  40.35429 -85.14993         6.690   9001.0   1.0       47336  \n",
       "43  40.45112 -85.15048         6.690    473.0   1.0  47373-9430  \n",
       "47  40.74559 -84.78962         1.206  12998.0   1.0  45898-9523  \n",
       "50  41.84149 -80.11099         0.824  25529.0   0.0       16403  \n",
       "66  41.47692 -81.66075         0.462   3937.0   0.0       44115  "
      ]
     },
     "execution_count": 6,
     "metadata": {},
     "output_type": "execute_result"
    }
   ],
   "source": [
    "df.drop(columns=['ID', 'Description', 'Street',\n",
    "        'City', 'County', 'State', 'Country', 'Timezone',\n",
    "       'Airport_Code', 'Weather_Timestamp', 'Temperature(F)', 'Wind_Chill(F)',\n",
    "       'Humidity(%)', 'Pressure(in)', 'Visibility(mi)', 'Wind_Direction',\n",
    "       'Wind_Speed(mph)', 'Precipitation(in)', 'Weather_Condition', 'Amenity',\n",
    "       'Bump', 'Crossing', 'Give_Way', 'Junction', 'No_Exit', 'Railway',\n",
    "       'Roundabout', 'Station', 'Stop', 'Traffic_Calming', 'Traffic_Signal',\n",
    "       'Turning_Loop', 'Sunrise_Sunset', 'Civil_Twilight', 'Nautical_Twilight',\n",
    "       'Astronomical_Twilight'],inplace=True)\n",
    "df.head()"
   ]
  },
  {
   "cell_type": "code",
   "execution_count": 7,
   "id": "d4162453",
   "metadata": {},
   "outputs": [
    {
     "data": {
      "text/html": [
       "<div>\n",
       "<style scoped>\n",
       "    .dataframe tbody tr th:only-of-type {\n",
       "        vertical-align: middle;\n",
       "    }\n",
       "\n",
       "    .dataframe tbody tr th {\n",
       "        vertical-align: top;\n",
       "    }\n",
       "\n",
       "    .dataframe thead th {\n",
       "        text-align: right;\n",
       "    }\n",
       "</style>\n",
       "<table border=\"1\" class=\"dataframe\">\n",
       "  <thead>\n",
       "    <tr style=\"text-align: right;\">\n",
       "      <th></th>\n",
       "      <th>Severity</th>\n",
       "      <th>Start_Time</th>\n",
       "      <th>End_Time</th>\n",
       "      <th>Start_Lat</th>\n",
       "      <th>Start_Lng</th>\n",
       "      <th>End_Lat</th>\n",
       "      <th>End_Lng</th>\n",
       "      <th>Distance(mi)</th>\n",
       "      <th>Number</th>\n",
       "      <th>Side</th>\n",
       "      <th>Zipcode</th>\n",
       "      <th>StTime</th>\n",
       "      <th>EnTime</th>\n",
       "    </tr>\n",
       "  </thead>\n",
       "  <tbody>\n",
       "    <tr>\n",
       "      <th>42</th>\n",
       "      <td>4</td>\n",
       "      <td>2016-02-09</td>\n",
       "      <td>2016-02-10</td>\n",
       "      <td>40.451120</td>\n",
       "      <td>-85.150480</td>\n",
       "      <td>40.354290</td>\n",
       "      <td>-85.149930</td>\n",
       "      <td>6.690</td>\n",
       "      <td>9001.0</td>\n",
       "      <td>1.0</td>\n",
       "      <td>47336</td>\n",
       "      <td>18:20:58</td>\n",
       "      <td>00:20:58</td>\n",
       "    </tr>\n",
       "    <tr>\n",
       "      <th>43</th>\n",
       "      <td>4</td>\n",
       "      <td>2016-02-09</td>\n",
       "      <td>2016-02-10</td>\n",
       "      <td>40.354290</td>\n",
       "      <td>-85.149930</td>\n",
       "      <td>40.451120</td>\n",
       "      <td>-85.150480</td>\n",
       "      <td>6.690</td>\n",
       "      <td>473.0</td>\n",
       "      <td>1.0</td>\n",
       "      <td>47373-9430</td>\n",
       "      <td>18:20:58</td>\n",
       "      <td>00:20:58</td>\n",
       "    </tr>\n",
       "    <tr>\n",
       "      <th>47</th>\n",
       "      <td>4</td>\n",
       "      <td>2016-02-10</td>\n",
       "      <td>2016-02-10</td>\n",
       "      <td>40.728130</td>\n",
       "      <td>-84.789650</td>\n",
       "      <td>40.745590</td>\n",
       "      <td>-84.789620</td>\n",
       "      <td>1.206</td>\n",
       "      <td>12998.0</td>\n",
       "      <td>1.0</td>\n",
       "      <td>45898-9523</td>\n",
       "      <td>06:18:49</td>\n",
       "      <td>12:18:49</td>\n",
       "    </tr>\n",
       "    <tr>\n",
       "      <th>50</th>\n",
       "      <td>2</td>\n",
       "      <td>2016-02-10</td>\n",
       "      <td>2016-02-10</td>\n",
       "      <td>41.831930</td>\n",
       "      <td>-80.101430</td>\n",
       "      <td>41.841490</td>\n",
       "      <td>-80.110990</td>\n",
       "      <td>0.824</td>\n",
       "      <td>25529.0</td>\n",
       "      <td>0.0</td>\n",
       "      <td>16403</td>\n",
       "      <td>08:35:27</td>\n",
       "      <td>14:35:27</td>\n",
       "    </tr>\n",
       "    <tr>\n",
       "      <th>66</th>\n",
       "      <td>2</td>\n",
       "      <td>2016-02-10</td>\n",
       "      <td>2016-02-10</td>\n",
       "      <td>41.483390</td>\n",
       "      <td>-81.662970</td>\n",
       "      <td>41.476920</td>\n",
       "      <td>-81.660750</td>\n",
       "      <td>0.462</td>\n",
       "      <td>3937.0</td>\n",
       "      <td>0.0</td>\n",
       "      <td>44115</td>\n",
       "      <td>12:54:39</td>\n",
       "      <td>18:54:39</td>\n",
       "    </tr>\n",
       "    <tr>\n",
       "      <th>...</th>\n",
       "      <td>...</td>\n",
       "      <td>...</td>\n",
       "      <td>...</td>\n",
       "      <td>...</td>\n",
       "      <td>...</td>\n",
       "      <td>...</td>\n",
       "      <td>...</td>\n",
       "      <td>...</td>\n",
       "      <td>...</td>\n",
       "      <td>...</td>\n",
       "      <td>...</td>\n",
       "      <td>...</td>\n",
       "      <td>...</td>\n",
       "    </tr>\n",
       "    <tr>\n",
       "      <th>2845298</th>\n",
       "      <td>3</td>\n",
       "      <td>2019-08-23</td>\n",
       "      <td>2019-08-23</td>\n",
       "      <td>37.609816</td>\n",
       "      <td>-122.493720</td>\n",
       "      <td>37.608821</td>\n",
       "      <td>-122.495261</td>\n",
       "      <td>0.109</td>\n",
       "      <td>895.0</td>\n",
       "      <td>1.0</td>\n",
       "      <td>94044</td>\n",
       "      <td>16:19:21</td>\n",
       "      <td>16:48:04</td>\n",
       "    </tr>\n",
       "    <tr>\n",
       "      <th>2845302</th>\n",
       "      <td>4</td>\n",
       "      <td>2019-08-23</td>\n",
       "      <td>2019-08-23</td>\n",
       "      <td>38.995930</td>\n",
       "      <td>-121.672020</td>\n",
       "      <td>39.003170</td>\n",
       "      <td>-121.662679</td>\n",
       "      <td>0.708</td>\n",
       "      <td>3044.0</td>\n",
       "      <td>1.0</td>\n",
       "      <td>95993-9744</td>\n",
       "      <td>17:25:12</td>\n",
       "      <td>17:54:00</td>\n",
       "    </tr>\n",
       "    <tr>\n",
       "      <th>2845303</th>\n",
       "      <td>4</td>\n",
       "      <td>2019-08-23</td>\n",
       "      <td>2019-08-23</td>\n",
       "      <td>39.003170</td>\n",
       "      <td>-121.662679</td>\n",
       "      <td>38.995930</td>\n",
       "      <td>-121.672020</td>\n",
       "      <td>0.708</td>\n",
       "      <td>2500.0</td>\n",
       "      <td>1.0</td>\n",
       "      <td>95993-9513</td>\n",
       "      <td>17:25:12</td>\n",
       "      <td>17:54:00</td>\n",
       "    </tr>\n",
       "    <tr>\n",
       "      <th>2845304</th>\n",
       "      <td>3</td>\n",
       "      <td>2019-08-23</td>\n",
       "      <td>2019-08-23</td>\n",
       "      <td>34.121320</td>\n",
       "      <td>-117.254540</td>\n",
       "      <td>34.121320</td>\n",
       "      <td>-117.254540</td>\n",
       "      <td>0.000</td>\n",
       "      <td>1498.0</td>\n",
       "      <td>0.0</td>\n",
       "      <td>92410-4114</td>\n",
       "      <td>01:16:01</td>\n",
       "      <td>01:44:53</td>\n",
       "    </tr>\n",
       "    <tr>\n",
       "      <th>2845307</th>\n",
       "      <td>3</td>\n",
       "      <td>2019-08-23</td>\n",
       "      <td>2019-08-23</td>\n",
       "      <td>34.485189</td>\n",
       "      <td>-120.229276</td>\n",
       "      <td>34.482530</td>\n",
       "      <td>-120.230510</td>\n",
       "      <td>0.197</td>\n",
       "      <td>18000.0</td>\n",
       "      <td>1.0</td>\n",
       "      <td>93117</td>\n",
       "      <td>10:32:30</td>\n",
       "      <td>11:01:40</td>\n",
       "    </tr>\n",
       "  </tbody>\n",
       "</table>\n",
       "<p>943318 rows × 13 columns</p>\n",
       "</div>"
      ],
      "text/plain": [
       "         Severity  Start_Time    End_Time  Start_Lat   Start_Lng    End_Lat  \\\n",
       "42              4  2016-02-09  2016-02-10  40.451120  -85.150480  40.354290   \n",
       "43              4  2016-02-09  2016-02-10  40.354290  -85.149930  40.451120   \n",
       "47              4  2016-02-10  2016-02-10  40.728130  -84.789650  40.745590   \n",
       "50              2  2016-02-10  2016-02-10  41.831930  -80.101430  41.841490   \n",
       "66              2  2016-02-10  2016-02-10  41.483390  -81.662970  41.476920   \n",
       "...           ...         ...         ...        ...         ...        ...   \n",
       "2845298         3  2019-08-23  2019-08-23  37.609816 -122.493720  37.608821   \n",
       "2845302         4  2019-08-23  2019-08-23  38.995930 -121.672020  39.003170   \n",
       "2845303         4  2019-08-23  2019-08-23  39.003170 -121.662679  38.995930   \n",
       "2845304         3  2019-08-23  2019-08-23  34.121320 -117.254540  34.121320   \n",
       "2845307         3  2019-08-23  2019-08-23  34.485189 -120.229276  34.482530   \n",
       "\n",
       "            End_Lng  Distance(mi)   Number  Side     Zipcode    StTime  \\\n",
       "42       -85.149930         6.690   9001.0   1.0       47336  18:20:58   \n",
       "43       -85.150480         6.690    473.0   1.0  47373-9430  18:20:58   \n",
       "47       -84.789620         1.206  12998.0   1.0  45898-9523  06:18:49   \n",
       "50       -80.110990         0.824  25529.0   0.0       16403  08:35:27   \n",
       "66       -81.660750         0.462   3937.0   0.0       44115  12:54:39   \n",
       "...             ...           ...      ...   ...         ...       ...   \n",
       "2845298 -122.495261         0.109    895.0   1.0       94044  16:19:21   \n",
       "2845302 -121.662679         0.708   3044.0   1.0  95993-9744  17:25:12   \n",
       "2845303 -121.672020         0.708   2500.0   1.0  95993-9513  17:25:12   \n",
       "2845304 -117.254540         0.000   1498.0   0.0  92410-4114  01:16:01   \n",
       "2845307 -120.230510         0.197  18000.0   1.0       93117  10:32:30   \n",
       "\n",
       "           EnTime  \n",
       "42       00:20:58  \n",
       "43       00:20:58  \n",
       "47       12:18:49  \n",
       "50       14:35:27  \n",
       "66       18:54:39  \n",
       "...           ...  \n",
       "2845298  16:48:04  \n",
       "2845302  17:54:00  \n",
       "2845303  17:54:00  \n",
       "2845304  01:44:53  \n",
       "2845307  11:01:40  \n",
       "\n",
       "[943318 rows x 13 columns]"
      ]
     },
     "execution_count": 7,
     "metadata": {},
     "output_type": "execute_result"
    }
   ],
   "source": [
    "df[['Start_Time','StTime']] = df['Start_Time'].str.split(expand=True)\n",
    "df[['End_Time','EnTime']] = df['End_Time'].str.split(expand=True)\n",
    "df"
   ]
  },
  {
   "cell_type": "code",
   "execution_count": 8,
   "id": "2df1da22",
   "metadata": {},
   "outputs": [
    {
     "data": {
      "text/html": [
       "<div>\n",
       "<style scoped>\n",
       "    .dataframe tbody tr th:only-of-type {\n",
       "        vertical-align: middle;\n",
       "    }\n",
       "\n",
       "    .dataframe tbody tr th {\n",
       "        vertical-align: top;\n",
       "    }\n",
       "\n",
       "    .dataframe thead th {\n",
       "        text-align: right;\n",
       "    }\n",
       "</style>\n",
       "<table border=\"1\" class=\"dataframe\">\n",
       "  <thead>\n",
       "    <tr style=\"text-align: right;\">\n",
       "      <th></th>\n",
       "      <th>Severity</th>\n",
       "      <th>Start_Time</th>\n",
       "      <th>End_Time</th>\n",
       "      <th>Start_Lat</th>\n",
       "      <th>Start_Lng</th>\n",
       "      <th>End_Lat</th>\n",
       "      <th>End_Lng</th>\n",
       "      <th>Distance(mi)</th>\n",
       "      <th>Number</th>\n",
       "      <th>Side</th>\n",
       "      <th>Zipcode</th>\n",
       "      <th>StTime</th>\n",
       "      <th>EnTime</th>\n",
       "    </tr>\n",
       "  </thead>\n",
       "  <tbody>\n",
       "    <tr>\n",
       "      <th>42</th>\n",
       "      <td>4</td>\n",
       "      <td>20160209</td>\n",
       "      <td>20160210</td>\n",
       "      <td>40.451120</td>\n",
       "      <td>-85.150480</td>\n",
       "      <td>40.354290</td>\n",
       "      <td>-85.149930</td>\n",
       "      <td>6.690</td>\n",
       "      <td>9001.0</td>\n",
       "      <td>1.0</td>\n",
       "      <td>47336</td>\n",
       "      <td>182058</td>\n",
       "      <td>002058</td>\n",
       "    </tr>\n",
       "    <tr>\n",
       "      <th>43</th>\n",
       "      <td>4</td>\n",
       "      <td>20160209</td>\n",
       "      <td>20160210</td>\n",
       "      <td>40.354290</td>\n",
       "      <td>-85.149930</td>\n",
       "      <td>40.451120</td>\n",
       "      <td>-85.150480</td>\n",
       "      <td>6.690</td>\n",
       "      <td>473.0</td>\n",
       "      <td>1.0</td>\n",
       "      <td>473739430</td>\n",
       "      <td>182058</td>\n",
       "      <td>002058</td>\n",
       "    </tr>\n",
       "    <tr>\n",
       "      <th>47</th>\n",
       "      <td>4</td>\n",
       "      <td>20160210</td>\n",
       "      <td>20160210</td>\n",
       "      <td>40.728130</td>\n",
       "      <td>-84.789650</td>\n",
       "      <td>40.745590</td>\n",
       "      <td>-84.789620</td>\n",
       "      <td>1.206</td>\n",
       "      <td>12998.0</td>\n",
       "      <td>1.0</td>\n",
       "      <td>458989523</td>\n",
       "      <td>061849</td>\n",
       "      <td>121849</td>\n",
       "    </tr>\n",
       "    <tr>\n",
       "      <th>50</th>\n",
       "      <td>2</td>\n",
       "      <td>20160210</td>\n",
       "      <td>20160210</td>\n",
       "      <td>41.831930</td>\n",
       "      <td>-80.101430</td>\n",
       "      <td>41.841490</td>\n",
       "      <td>-80.110990</td>\n",
       "      <td>0.824</td>\n",
       "      <td>25529.0</td>\n",
       "      <td>0.0</td>\n",
       "      <td>16403</td>\n",
       "      <td>083527</td>\n",
       "      <td>143527</td>\n",
       "    </tr>\n",
       "    <tr>\n",
       "      <th>66</th>\n",
       "      <td>2</td>\n",
       "      <td>20160210</td>\n",
       "      <td>20160210</td>\n",
       "      <td>41.483390</td>\n",
       "      <td>-81.662970</td>\n",
       "      <td>41.476920</td>\n",
       "      <td>-81.660750</td>\n",
       "      <td>0.462</td>\n",
       "      <td>3937.0</td>\n",
       "      <td>0.0</td>\n",
       "      <td>44115</td>\n",
       "      <td>125439</td>\n",
       "      <td>185439</td>\n",
       "    </tr>\n",
       "    <tr>\n",
       "      <th>...</th>\n",
       "      <td>...</td>\n",
       "      <td>...</td>\n",
       "      <td>...</td>\n",
       "      <td>...</td>\n",
       "      <td>...</td>\n",
       "      <td>...</td>\n",
       "      <td>...</td>\n",
       "      <td>...</td>\n",
       "      <td>...</td>\n",
       "      <td>...</td>\n",
       "      <td>...</td>\n",
       "      <td>...</td>\n",
       "      <td>...</td>\n",
       "    </tr>\n",
       "    <tr>\n",
       "      <th>2845298</th>\n",
       "      <td>3</td>\n",
       "      <td>20190823</td>\n",
       "      <td>20190823</td>\n",
       "      <td>37.609816</td>\n",
       "      <td>-122.493720</td>\n",
       "      <td>37.608821</td>\n",
       "      <td>-122.495261</td>\n",
       "      <td>0.109</td>\n",
       "      <td>895.0</td>\n",
       "      <td>1.0</td>\n",
       "      <td>94044</td>\n",
       "      <td>161921</td>\n",
       "      <td>164804</td>\n",
       "    </tr>\n",
       "    <tr>\n",
       "      <th>2845302</th>\n",
       "      <td>4</td>\n",
       "      <td>20190823</td>\n",
       "      <td>20190823</td>\n",
       "      <td>38.995930</td>\n",
       "      <td>-121.672020</td>\n",
       "      <td>39.003170</td>\n",
       "      <td>-121.662679</td>\n",
       "      <td>0.708</td>\n",
       "      <td>3044.0</td>\n",
       "      <td>1.0</td>\n",
       "      <td>959939744</td>\n",
       "      <td>172512</td>\n",
       "      <td>175400</td>\n",
       "    </tr>\n",
       "    <tr>\n",
       "      <th>2845303</th>\n",
       "      <td>4</td>\n",
       "      <td>20190823</td>\n",
       "      <td>20190823</td>\n",
       "      <td>39.003170</td>\n",
       "      <td>-121.662679</td>\n",
       "      <td>38.995930</td>\n",
       "      <td>-121.672020</td>\n",
       "      <td>0.708</td>\n",
       "      <td>2500.0</td>\n",
       "      <td>1.0</td>\n",
       "      <td>959939513</td>\n",
       "      <td>172512</td>\n",
       "      <td>175400</td>\n",
       "    </tr>\n",
       "    <tr>\n",
       "      <th>2845304</th>\n",
       "      <td>3</td>\n",
       "      <td>20190823</td>\n",
       "      <td>20190823</td>\n",
       "      <td>34.121320</td>\n",
       "      <td>-117.254540</td>\n",
       "      <td>34.121320</td>\n",
       "      <td>-117.254540</td>\n",
       "      <td>0.000</td>\n",
       "      <td>1498.0</td>\n",
       "      <td>0.0</td>\n",
       "      <td>924104114</td>\n",
       "      <td>011601</td>\n",
       "      <td>014453</td>\n",
       "    </tr>\n",
       "    <tr>\n",
       "      <th>2845307</th>\n",
       "      <td>3</td>\n",
       "      <td>20190823</td>\n",
       "      <td>20190823</td>\n",
       "      <td>34.485189</td>\n",
       "      <td>-120.229276</td>\n",
       "      <td>34.482530</td>\n",
       "      <td>-120.230510</td>\n",
       "      <td>0.197</td>\n",
       "      <td>18000.0</td>\n",
       "      <td>1.0</td>\n",
       "      <td>93117</td>\n",
       "      <td>103230</td>\n",
       "      <td>110140</td>\n",
       "    </tr>\n",
       "  </tbody>\n",
       "</table>\n",
       "<p>943318 rows × 13 columns</p>\n",
       "</div>"
      ],
      "text/plain": [
       "         Severity Start_Time  End_Time  Start_Lat   Start_Lng    End_Lat  \\\n",
       "42              4   20160209  20160210  40.451120  -85.150480  40.354290   \n",
       "43              4   20160209  20160210  40.354290  -85.149930  40.451120   \n",
       "47              4   20160210  20160210  40.728130  -84.789650  40.745590   \n",
       "50              2   20160210  20160210  41.831930  -80.101430  41.841490   \n",
       "66              2   20160210  20160210  41.483390  -81.662970  41.476920   \n",
       "...           ...        ...       ...        ...         ...        ...   \n",
       "2845298         3   20190823  20190823  37.609816 -122.493720  37.608821   \n",
       "2845302         4   20190823  20190823  38.995930 -121.672020  39.003170   \n",
       "2845303         4   20190823  20190823  39.003170 -121.662679  38.995930   \n",
       "2845304         3   20190823  20190823  34.121320 -117.254540  34.121320   \n",
       "2845307         3   20190823  20190823  34.485189 -120.229276  34.482530   \n",
       "\n",
       "            End_Lng  Distance(mi)   Number  Side    Zipcode  StTime  EnTime  \n",
       "42       -85.149930         6.690   9001.0   1.0      47336  182058  002058  \n",
       "43       -85.150480         6.690    473.0   1.0  473739430  182058  002058  \n",
       "47       -84.789620         1.206  12998.0   1.0  458989523  061849  121849  \n",
       "50       -80.110990         0.824  25529.0   0.0      16403  083527  143527  \n",
       "66       -81.660750         0.462   3937.0   0.0      44115  125439  185439  \n",
       "...             ...           ...      ...   ...        ...     ...     ...  \n",
       "2845298 -122.495261         0.109    895.0   1.0      94044  161921  164804  \n",
       "2845302 -121.662679         0.708   3044.0   1.0  959939744  172512  175400  \n",
       "2845303 -121.672020         0.708   2500.0   1.0  959939513  172512  175400  \n",
       "2845304 -117.254540         0.000   1498.0   0.0  924104114  011601  014453  \n",
       "2845307 -120.230510         0.197  18000.0   1.0      93117  103230  110140  \n",
       "\n",
       "[943318 rows x 13 columns]"
      ]
     },
     "execution_count": 8,
     "metadata": {},
     "output_type": "execute_result"
    }
   ],
   "source": [
    "df['Start_Time']=df['Start_Time'].str.replace('-','')\n",
    "df['End_Time']=df['End_Time'].str.replace('-','')\n",
    "df['StTime']=df['StTime'].str.replace(':','')\n",
    "df['EnTime']=df['EnTime'].str.replace(':','')\n",
    "df['Zipcode'] = df['Zipcode'].str.replace('-','')\n",
    "df"
   ]
  },
  {
   "cell_type": "code",
   "execution_count": 9,
   "id": "497e6766",
   "metadata": {
    "scrolled": true
   },
   "outputs": [
    {
     "name": "stdout",
     "output_type": "stream",
     "text": [
      "(943318, 12)\n",
      "(943318,)\n"
     ]
    }
   ],
   "source": [
    "X = df.iloc[:, 1:13].values\n",
    "y = df.iloc[:,0].values\n",
    "# Y = Y.reshape(-1,1)\n",
    "print(X.shape)\n",
    "print(y.shape)"
   ]
  },
  {
   "cell_type": "markdown",
   "id": "197bbf1d",
   "metadata": {},
   "source": [
    "# Decision Tree"
   ]
  },
  {
   "cell_type": "code",
   "execution_count": 10,
   "id": "6547b543",
   "metadata": {},
   "outputs": [],
   "source": [
    "X_train, X_test, y_train, y_test = train_test_split(X, y, random_state = 0)\n",
    "  \n",
    "# training a DescisionTreeClassifier\n",
    "from sklearn.tree import DecisionTreeClassifier\n",
    "dtree_model = DecisionTreeClassifier(max_depth = 10).fit(X_train, y_train)\n",
    "dtree_predictions = dtree_model.predict(X_test)\n",
    "\n",
    "# creating a confusion matrix\n",
    "cm = confusion_matrix(y_test, dtree_predictions)"
   ]
  },
  {
   "cell_type": "code",
   "execution_count": 11,
   "id": "ee1edef8",
   "metadata": {},
   "outputs": [
    {
     "name": "stdout",
     "output_type": "stream",
     "text": [
      "[[  1231   1268     23     28]\n",
      " [   136 221150    185   1034]\n",
      " [    60   1952    948    482]\n",
      " [    20   4328    168   2817]]\n"
     ]
    }
   ],
   "source": [
    "print(cm)"
   ]
  },
  {
   "cell_type": "code",
   "execution_count": 12,
   "id": "0e0e1e32",
   "metadata": {},
   "outputs": [],
   "source": [
    "from sklearn.metrics import confusion_matrix\n",
    "import matplotlib.pyplot as plt\n",
    "import seaborn as sns\n",
    "def get_confusion_matrix(cnf_matrix):\n",
    "  class_names=[0,1] # name of classes\n",
    "  fig, ax = plt.subplots()\n",
    "  tick_marks = np.arange(len(class_names))\n",
    "  plt.xticks(tick_marks, class_names)\n",
    "  plt.yticks(tick_marks, class_names)\n",
    "  # create heatmap\n",
    "  sns.heatmap(pd.DataFrame(cnf_matrix), annot=True,fmt='g')\n",
    "  ax.xaxis.set_label_position(\"top\")\n",
    "  plt.tight_layout()\n",
    "  plt.title('Confusion matrix', y=1.1)\n",
    "  plt.ylabel('Actual label')\n",
    "  plt.xlabel('Predicted label')\n",
    "\n"
   ]
  },
  {
   "cell_type": "code",
   "execution_count": 13,
   "id": "f7e0a450",
   "metadata": {
    "scrolled": true
   },
   "outputs": [
    {
     "data": {
      "image/png": "[encoded data removed]",
      "text/plain": [
       "<Figure size 640x480 with 2 Axes>"
      ]
     },
     "metadata": {},
     "output_type": "display_data"
    }
   ],
   "source": [
    "cnf_matrix = confusion_matrix(y_test, dtree_predictions)\n",
    "get_confusion_matrix(cnf_matrix)"
   ]
  },
  {
   "cell_type": "code",
   "execution_count": 14,
   "id": "eedac50d",
   "metadata": {},
   "outputs": [
    {
     "name": "stdout",
     "output_type": "stream",
     "text": [
      "Accuracy:  0.9589365220709833\n"
     ]
    }
   ],
   "source": [
    "dtree_score = dtree_model.score(X_test,y_test)\n",
    "print('Accuracy: ', dtree_score)"
   ]
  },
  {
   "cell_type": "code",
   "execution_count": 15,
   "id": "24d7ec2e",
   "metadata": {},
   "outputs": [
    {
     "name": "stdout",
     "output_type": "stream",
     "text": [
      "Micro-averaged precision score: 0.96\n",
      "Micro-averaged recall score: 0.96\n"
     ]
    }
   ],
   "source": [
    "from sklearn.metrics import precision_score,recall_score\n",
    "micro_precision = precision_score(dtree_predictions, y_test, average='micro')\n",
    "print('Micro-averaged precision score: {0:0.2f}'.format(\n",
    "      micro_precision))\n",
    "\n",
    "# macro_precision = precision_score(dtree_predictions, y_test, average='macro')\n",
    "# print('Macro-averaged precision score: {0:0.2f}'.format(\n",
    "#       macro_precision))\n",
    "\n",
    "# per_class_precision = precision_score(dtree_predictions, y_test, average=None)\n",
    "# print('Per-class precision score:', per_class_precision)\n",
    "\n",
    "\n",
    "micro_recall = recall_score(dtree_predictions, y_test, average='micro')\n",
    "print('Micro-averaged recall score: {0:0.2f}'.format(\n",
    "      micro_recall))\n",
    "\n",
    "# macro_recall = recall_score(dtree_predictions, y_test, average='macro')\n",
    "# print('Macro-averaged recall score: {0:0.2f}'.format(\n",
    "#       micro_recall))\n",
    "\n",
    "# per_class_recall = recall_score(dtree_predictions, y_test, average=None)\n",
    "# print('Per-class recall score:', micro_recall)"
   ]
  },
  {
   "cell_type": "markdown",
   "id": "f2011d2c",
   "metadata": {},
   "source": [
    "# Gaussian NB "
   ]
  },
  {
   "cell_type": "code",
   "execution_count": 16,
   "id": "9205d3d1",
   "metadata": {},
   "outputs": [],
   "source": [
    "from sklearn.naive_bayes import GaussianNB\n",
    "gnb = GaussianNB().fit(X_train, y_train)\n",
    "gnb_predictions = gnb.predict(X_test)\n",
    "\n",
    "# creating a confusion matrix\n",
    "cmNB = confusion_matrix(y_test, gnb_predictions)"
   ]
  },
  {
   "cell_type": "code",
   "execution_count": 17,
   "id": "e2700224",
   "metadata": {},
   "outputs": [
    {
     "data": {
      "image/png": "[encoded data removed]",
      "text/plain": [
       "<Figure size 640x480 with 2 Axes>"
      ]
     },
     "metadata": {},
     "output_type": "display_data"
    }
   ],
   "source": [
    "get_confusion_matrix(cmNB)"
   ]
  },
  {
   "cell_type": "code",
   "execution_count": 18,
   "id": "0536b8a0",
   "metadata": {},
   "outputs": [
    {
     "name": "stdout",
     "output_type": "stream",
     "text": [
      "0.9435822414451087\n"
     ]
    }
   ],
   "source": [
    "accuracy_NB = gnb.score(X_test, y_test)\n",
    "print(accuracy_NB)"
   ]
  },
  {
   "cell_type": "code",
   "execution_count": 19,
   "id": "496dd559",
   "metadata": {},
   "outputs": [
    {
     "name": "stdout",
     "output_type": "stream",
     "text": [
      "Micro-averaged precision score: 0.94\n",
      "Micro-averaged recall score: 0.94\n"
     ]
    }
   ],
   "source": [
    "from sklearn.metrics import precision_score,recall_score\n",
    "micro_precision_NB = precision_score(gnb_predictions, y_test, average='micro')\n",
    "print('Micro-averaged precision score: {0:0.2f}'.format(\n",
    "      micro_precision_NB))\n",
    "\n",
    "# macro_precision = precision_score(gnb_predictions, y_test, average='macro')\n",
    "# print('Macro-averaged precision score: {0:0.2f}'.format(\n",
    "#       macro_precision))\n",
    "\n",
    "# per_class_precision = precision_score(gnb_predictions, y_test, average=None)\n",
    "# print('Per-class precision score:', per_class_precision)\n",
    "\n",
    "\n",
    "micro_recall_NB = recall_score(gnb_predictions, y_test, average='micro')\n",
    "print('Micro-averaged recall score: {0:0.2f}'.format(\n",
    "      micro_recall_NB))\n",
    "\n",
    "# macro_recall = recall_score(gnb_predictions, y_test, average='macro')\n",
    "# print('Macro-averaged recall score: {0:0.2f}'.format(\n",
    "#       micro_recall))\n",
    "\n",
    "# per_class_recall = recall_score(gnb_predictions, y_test, average=None)\n",
    "# print('Per-class recall score:', micro_recall)"
   ]
  },
  {
   "cell_type": "markdown",
   "id": "192c109c",
   "metadata": {},
   "source": [
    "# KNN"
   ]
  },
  {
   "cell_type": "code",
   "execution_count": 20,
   "id": "699563e4",
   "metadata": {},
   "outputs": [],
   "source": [
    "from sklearn.neighbors import KNeighborsClassifier\n",
    "knn = KNeighborsClassifier(n_neighbors = 7).fit(X_train, y_train)\n",
    "\n",
    "# creating a confusion matrix\n",
    "knn_predictions = knn.predict(X_test) \n",
    "cmKNN = confusion_matrix(y_test, knn_predictions)"
   ]
  },
  {
   "cell_type": "code",
   "execution_count": 21,
   "id": "9245658b",
   "metadata": {},
   "outputs": [
    {
     "data": {
      "image/png": "[encoded data removed]",
      "text/plain": [
       "<Figure size 640x480 with 2 Axes>"
      ]
     },
     "metadata": {},
     "output_type": "display_data"
    }
   ],
   "source": [
    "get_confusion_matrix(cmKNN)"
   ]
  },
  {
   "cell_type": "code",
   "execution_count": 22,
   "id": "65fa148f",
   "metadata": {},
   "outputs": [
    {
     "name": "stdout",
     "output_type": "stream",
     "text": [
      "0.9509901200016961\n"
     ]
    }
   ],
   "source": [
    "accuracy_KNN = knn.score(X_test, y_test)\n",
    "print(accuracy_KNN)"
   ]
  },
  {
   "cell_type": "code",
   "execution_count": 23,
   "id": "00935d75",
   "metadata": {},
   "outputs": [
    {
     "name": "stdout",
     "output_type": "stream",
     "text": [
      "Micro-averaged precision score: 0.95\n",
      "Micro-averaged recall score: 0.95\n"
     ]
    }
   ],
   "source": [
    "from sklearn.metrics import precision_score,recall_score\n",
    "micro_precision_KNN = precision_score(knn_predictions, y_test, average='micro')\n",
    "print('Micro-averaged precision score: {0:0.2f}'.format(\n",
    "      micro_precision_KNN))\n",
    "\n",
    "# macro_precision = precision_score(gnb_predictions, y_test, average='macro')\n",
    "# print('Macro-averaged precision score: {0:0.2f}'.format(\n",
    "#       macro_precision))\n",
    "\n",
    "# per_class_precision = precision_score(gnb_predictions, y_test, average=None)\n",
    "# print('Per-class precision score:', per_class_precision)\n",
    "\n",
    "\n",
    "micro_recall_KNN = recall_score(knn_predictions, y_test, average='micro')\n",
    "print('Micro-averaged recall score: {0:0.2f}'.format(\n",
    "      micro_recall_KNN))\n",
    "\n",
    "# macro_recall = recall_score(gnb_predictions, y_test, average='macro')\n",
    "# print('Macro-averaged recall score: {0:0.2f}'.format(\n",
    "#       micro_recall))\n",
    "\n",
    "# per_class_recall = recall_score(gnb_predictions, y_test, average=None)\n",
    "# print('Per-class recall score:', micro_recall)"
   ]
  },
  {
   "cell_type": "markdown",
   "id": "bf578aec",
   "metadata": {},
   "source": [
    "# Analysis"
   ]
  },
  {
   "cell_type": "code",
   "execution_count": 24,
   "id": "af3ffb2d",
   "metadata": {},
   "outputs": [],
   "source": [
    "label = ['Decision Tree','Gaussian NB', 'KNN']\n",
    "accuracy = [dtree_score,accuracy_NB,accuracy_KNN]\n",
    "precision = [micro_precision,micro_precision_NB,micro_precision_KNN]\n",
    "recall = [micro_recall,micro_recall_NB,micro_recall_KNN]"
   ]
  },
  {
   "cell_type": "markdown",
   "id": "22a12468",
   "metadata": {},
   "source": [
    "# Accuracy"
   ]
  },
  {
   "cell_type": "code",
   "execution_count": 26,
   "id": "9544bf89",
   "metadata": {},
   "outputs": [
    {
     "data": {
      "text/plain": [
       "<BarContainer object of 3 artists>"
      ]
     },
     "execution_count": 26,
     "metadata": {},
     "output_type": "execute_result"
    },
    {
     "data": {
      "image/png": "[encoded data removed]",
      "text/plain": [
       "<Figure size 640x480 with 1 Axes>"
      ]
     },
     "metadata": {},
     "output_type": "display_data"
    }
   ],
   "source": [
    "plt.bar(label,accuracy)"
   ]
  },
  {
   "cell_type": "markdown",
   "id": "03997613",
   "metadata": {},
   "source": [
    "# Precision"
   ]
  },
  {
   "cell_type": "code",
   "execution_count": 27,
   "id": "bc0f9a24",
   "metadata": {},
   "outputs": [
    {
     "data": {
      "text/plain": [
       "<BarContainer object of 3 artists>"
      ]
     },
     "execution_count": 27,
     "metadata": {},
     "output_type": "execute_result"
    },
    {
     "data": {
      "image/png": "[encoded data removed]",
      "text/plain": [
       "<Figure size 640x480 with 1 Axes>"
      ]
     },
     "metadata": {},
     "output_type": "display_data"
    }
   ],
   "source": [
    "plt.bar(label,precision)"
   ]
  },
  {
   "cell_type": "markdown",
   "id": "88480968",
   "metadata": {},
   "source": [
    "# Recall"
   ]
  },
  {
   "cell_type": "code",
   "execution_count": 28,
   "id": "9515bec8",
   "metadata": {},
   "outputs": [
    {
     "data": {
      "text/plain": [
       "<BarContainer object of 3 artists>"
      ]
     },
     "execution_count": 28,
     "metadata": {},
     "output_type": "execute_result"
    },
    {
     "data": {
      "image/png": "[encoded data removed]",
      "text/plain": [
       "<Figure size 640x480 with 1 Axes>"
      ]
     },
     "metadata": {},
     "output_type": "display_data"
    }
   ],
   "source": [
    "plt.bar(label,recall)"
   ]
  },
  {
   "cell_type": "code",
   "execution_count": null,
   "id": "133109b1",
   "metadata": {},
   "outputs": [],
   "source": []
  }
 ],
 "metadata": {
  "kernelspec": {
   "display_name": "Python 3 (ipykernel)",
   "language": "python",
   "name": "python3"
  },
  "language_info": {
   "codemirror_mode": {
    "name": "ipython",
    "version": 3
   },
   "file_extension": ".py",
   "mimetype": "text/x-python",
   "name": "python",
   "nbconvert_exporter": "python",
   "pygments_lexer": "ipython3",
   "version": "3.11.1"
  }
 },
 "nbformat": 4,
 "nbformat_minor": 5
}
