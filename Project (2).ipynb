{
  "cells": [
    {
      "cell_type": "code",
      "execution_count": 39,
      "metadata": {
        "id": "k7e-6dF5wpew"
      },
      "outputs": [],
      "source": [
        "import numpy as np\n",
        "import pandas as pd\n",
        "import matplotlib.pyplot as plt\n",
        "from sklearn.model_selection import KFold\n",
        "from sklearn.model_selection import cross_val_score\n",
        "from sklearn.model_selection import train_test_split\n",
        "from sklearn.linear_model import LogisticRegression\n",
        "from sklearn import datasets \n",
        "from sklearn import metrics\n",
        "from sklearn.metrics import confusion_matrix \n",
        "from sklearn.metrics import classification_report\n",
        "from sklearn.preprocessing import StandardScaler\n",
        "from sklearn.metrics import mean_squared_error\n",
        "from sklearn.decomposition import PCA\n",
        "from scipy import stats\n",
        "import seaborn as sns\n",
        "from sklearn.svm import SVC, SVR\n",
        "np.random.seed(0)"
      ]
    },
    {
      "cell_type": "code",
      "execution_count": 40,
      "metadata": {
        "colab": {
          "base_uri": "https://localhost:8080/"
        },
        "id": "YtBaQK_Cx9cV",
        "outputId": "6681f80f-072b-4498-8bde-bfec04dafed7"
      },
      "outputs": [
        {
          "output_type": "stream",
          "name": "stderr",
          "text": [
            "<ipython-input-40-6bc1d63c820f>:1: DtypeWarning: Columns (37,38,39,40,41,42) have mixed types. Specify dtype option on import or set low_memory=False.\n",
            "  df = pd.read_csv('/content/sample_data/US_Accidents_Dec21_updated.csv')\n"
          ]
        },
        {
          "output_type": "stream",
          "name": "stdout",
          "text": [
            "                ID  Severity           Start_Time             End_Time  \\\n",
            "0              A-1         3  2016-02-08 00:37:08  2016-02-08 06:37:08   \n",
            "1              A-2         2  2016-02-08 05:56:20  2016-02-08 11:56:20   \n",
            "2              A-3         2  2016-02-08 06:15:39  2016-02-08 12:15:39   \n",
            "3              A-4         2  2016-02-08 06:51:45  2016-02-08 12:51:45   \n",
            "4              A-5         3  2016-02-08 07:53:43  2016-02-08 13:53:43   \n",
            "...            ...       ...                  ...                  ...   \n",
            "2033976  A-2033977         2  2020-12-29 00:42:05  2020-12-29 02:27:05   \n",
            "2033977  A-2033978         2  2020-12-09 01:51:00  2020-12-09 03:32:38   \n",
            "2033978  A-2033979         2  2020-12-28 17:50:00  2020-12-28 19:07:46   \n",
            "2033979  A-2033980         2  2020-10-29 21:57:30  2020-10-30 02:29:00   \n",
            "2033980  A-2033981         2  2020-11-20 20:38:00  2020-11-20 22:06:34   \n",
            "\n",
            "         Start_Lat   Start_Lng    End_Lat     End_Lng  Distance(mi)  \\\n",
            "0        40.108910  -83.092860  40.112060  -83.031870         3.230   \n",
            "1        39.865420  -84.062800  39.865010  -84.048730         0.747   \n",
            "2        39.102660  -84.524680  39.102090  -84.523960         0.055   \n",
            "3        41.062130  -81.537840  41.062170  -81.535470         0.123   \n",
            "4        39.172393  -84.492792  39.170476  -84.501798         0.500   \n",
            "...            ...         ...        ...         ...           ...   \n",
            "2033976  45.801454 -119.994918  45.807914 -119.959708         1.754   \n",
            "2033977  33.462134 -112.023993  33.462134 -112.030433         0.371   \n",
            "2033978  32.712124 -117.118774  32.709384 -117.119794         0.198   \n",
            "2033979  25.678905  -80.359157  25.671904  -80.365378         0.620   \n",
            "2033980  33.426686 -112.031482  33.424766 -112.025062         0.393   \n",
            "\n",
            "                                               Description  ...  Roundabout  \\\n",
            "0        Between Sawmill Rd/Exit 20 and OH-315/Olentang...  ...       False   \n",
            "1                       At OH-4/OH-235/Exit 41 - Accident.  ...       False   \n",
            "2                         At I-71/US-50/Exit 1 - Accident.  ...       False   \n",
            "3                          At Dart Ave/Exit 21 - Accident.  ...       False   \n",
            "4                       At Mitchell Ave/Exit 6 - Accident.  ...       False   \n",
            "...                                                    ...  ...         ...   \n",
            "2033976  Incident on I-84 EB near MP 151 Drive with cau...  ...       False   \n",
            "2033977  Incident on AZ-202 LOOP WB near 24TH ST Right ...  ...       False   \n",
            "2033978  Incident on CA-15 SB near MARKET Drive with ca...  ...       False   \n",
            "2033979  Slow traffic on FL-874 from FL-94/88th St/Kend...  ...       False   \n",
            "2033980  Incident on I-10 near E UNIVERSITY DR WO Expec...  ...           F   \n",
            "\n",
            "        Station   Stop Traffic_Calming Traffic_Signal Turning_Loop  \\\n",
            "0         False  False           False          False        False   \n",
            "1         False  False           False          False        False   \n",
            "2         False  False           False          False        False   \n",
            "3         False  False           False          False        False   \n",
            "4         False  False           False          False        False   \n",
            "...         ...    ...             ...            ...          ...   \n",
            "2033976   False  False           False          False        False   \n",
            "2033977   False  False           False          False        False   \n",
            "2033978   False  False           False          False        False   \n",
            "2033979   False  False           False          False        False   \n",
            "2033980     NaN    NaN             NaN            NaN          NaN   \n",
            "\n",
            "        Sunrise_Sunset Civil_Twilight Nautical_Twilight Astronomical_Twilight  \n",
            "0                Night          Night             Night                 Night  \n",
            "1                Night          Night             Night                 Night  \n",
            "2                Night          Night             Night                   Day  \n",
            "3                Night          Night               Day                   Day  \n",
            "4                  Day            Day               Day                   Day  \n",
            "...                ...            ...               ...                   ...  \n",
            "2033976          Night          Night             Night                 Night  \n",
            "2033977          Night          Night             Night                 Night  \n",
            "2033978          Night          Night             Night                   Day  \n",
            "2033979          Night          Night             Night                 Night  \n",
            "2033980            NaN            NaN               NaN                   NaN  \n",
            "\n",
            "[2033981 rows x 47 columns]\n"
          ]
        },
        {
          "output_type": "execute_result",
          "data": {
            "text/plain": [
              "2033981"
            ]
          },
          "metadata": {},
          "execution_count": 40
        }
      ],
      "source": [
        "df = pd.read_csv('/content/sample_data/US_Accidents_Dec21_updated.csv')\n",
        "print(df)\n",
        "df.head() # To get first n rows from the dataset default value of n is 5 \n",
        "M=len(df) \n",
        "M"
      ]
    },
    {
      "cell_type": "code",
      "execution_count": 41,
      "metadata": {
        "colab": {
          "base_uri": "https://localhost:8080/"
        },
        "id": "gcQHUNuaVfrz",
        "outputId": "f4373128-2cff-4f86-da9d-c40447e533c5"
      },
      "outputs": [
        {
          "output_type": "execute_result",
          "data": {
            "text/plain": [
              "0          1.0\n",
              "1          1.0\n",
              "2          1.0\n",
              "3          1.0\n",
              "4          1.0\n",
              "          ... \n",
              "2033976    1.0\n",
              "2033977    1.0\n",
              "2033978    1.0\n",
              "2033979    1.0\n",
              "2033980    1.0\n",
              "Name: Side, Length: 2033981, dtype: float64"
            ]
          },
          "metadata": {},
          "execution_count": 41
        }
      ],
      "source": [
        "df['Side'] = df['Side'].map({'R':1, 'L':0})\n",
        "df['Side']\n",
        "# w['female'] = w['female'].map({'female': 1, 'male': 0})"
      ]
    },
    {
      "cell_type": "code",
      "execution_count": 42,
      "metadata": {
        "id": "Iw5hdhfRY7NF"
      },
      "outputs": [],
      "source": [
        "df.dropna(inplace=True)"
      ]
    },
    {
      "cell_type": "code",
      "execution_count": 43,
      "metadata": {
        "colab": {
          "base_uri": "https://localhost:8080/"
        },
        "id": "PF_0njhRViCs",
        "outputId": "519a4aba-4aef-4231-ce0e-26a004ad7a89"
      },
      "outputs": [
        {
          "output_type": "stream",
          "name": "stdout",
          "text": [
            "0\n"
          ]
        }
      ],
      "source": [
        "check_nan = df.isnull().values.sum()\n",
        "print(check_nan)"
      ]
    },
    {
      "cell_type": "code",
      "execution_count": 44,
      "metadata": {
        "colab": {
          "base_uri": "https://localhost:8080/"
        },
        "id": "13VwAOL-fW_5",
        "outputId": "72f9fe8d-95bb-4a48-f5a7-0a57050fee67"
      },
      "outputs": [
        {
          "output_type": "execute_result",
          "data": {
            "text/plain": [
              "Index(['ID', 'Severity', 'Start_Time', 'End_Time', 'Start_Lat', 'Start_Lng',\n",
              "       'End_Lat', 'End_Lng', 'Distance(mi)', 'Description', 'Number', 'Street',\n",
              "       'Side', 'City', 'County', 'State', 'Zipcode', 'Country', 'Timezone',\n",
              "       'Airport_Code', 'Weather_Timestamp', 'Temperature(F)', 'Wind_Chill(F)',\n",
              "       'Humidity(%)', 'Pressure(in)', 'Visibility(mi)', 'Wind_Direction',\n",
              "       'Wind_Speed(mph)', 'Precipitation(in)', 'Weather_Condition', 'Amenity',\n",
              "       'Bump', 'Crossing', 'Give_Way', 'Junction', 'No_Exit', 'Railway',\n",
              "       'Roundabout', 'Station', 'Stop', 'Traffic_Calming', 'Traffic_Signal',\n",
              "       'Turning_Loop', 'Sunrise_Sunset', 'Civil_Twilight', 'Nautical_Twilight',\n",
              "       'Astronomical_Twilight'],\n",
              "      dtype='object')"
            ]
          },
          "metadata": {},
          "execution_count": 44
        }
      ],
      "source": [
        "df.columns"
      ]
    },
    {
      "cell_type": "code",
      "execution_count": 45,
      "metadata": {
        "colab": {
          "base_uri": "https://localhost:8080/",
          "height": 206
        },
        "id": "Ekk8xpudb1Iu",
        "outputId": "5629af57-ef18-4723-c41f-ecb0b537e6da"
      },
      "outputs": [
        {
          "output_type": "execute_result",
          "data": {
            "text/plain": [
              "    Severity           Start_Time             End_Time  Start_Lat  Start_Lng  \\\n",
              "42         4  2016-02-09 18:20:58  2016-02-10 00:20:58   40.45112  -85.15048   \n",
              "43         4  2016-02-09 18:20:58  2016-02-10 00:20:58   40.35429  -85.14993   \n",
              "47         4  2016-02-10 06:18:49  2016-02-10 12:18:49   40.72813  -84.78965   \n",
              "50         2  2016-02-10 08:35:27  2016-02-10 14:35:27   41.83193  -80.10143   \n",
              "66         2  2016-02-10 12:54:39  2016-02-10 18:54:39   41.48339  -81.66297   \n",
              "\n",
              "     End_Lat   End_Lng  Distance(mi)   Number  Side     Zipcode  \n",
              "42  40.35429 -85.14993         6.690   9001.0   1.0       47336  \n",
              "43  40.45112 -85.15048         6.690    473.0   1.0  47373-9430  \n",
              "47  40.74559 -84.78962         1.206  12998.0   1.0  45898-9523  \n",
              "50  41.84149 -80.11099         0.824  25529.0   0.0       16403  \n",
              "66  41.47692 -81.66075         0.462   3937.0   0.0       44115  "
            ],
            "text/html": [
              "\n",
              "  <div id=\"df-4521a129-adb4-4b0e-975f-6e98fdb4d45e\">\n",
              "    <div class=\"colab-df-container\">\n",
              "      <div>\n",
              "<style scoped>\n",
              "    .dataframe tbody tr th:only-of-type {\n",
              "        vertical-align: middle;\n",
              "    }\n",
              "\n",
              "    .dataframe tbody tr th {\n",
              "        vertical-align: top;\n",
              "    }\n",
              "\n",
              "    .dataframe thead th {\n",
              "        text-align: right;\n",
              "    }\n",
              "</style>\n",
              "<table border=\"1\" class=\"dataframe\">\n",
              "  <thead>\n",
              "    <tr style=\"text-align: right;\">\n",
              "      <th></th>\n",
              "      <th>Severity</th>\n",
              "      <th>Start_Time</th>\n",
              "      <th>End_Time</th>\n",
              "      <th>Start_Lat</th>\n",
              "      <th>Start_Lng</th>\n",
              "      <th>End_Lat</th>\n",
              "      <th>End_Lng</th>\n",
              "      <th>Distance(mi)</th>\n",
              "      <th>Number</th>\n",
              "      <th>Side</th>\n",
              "      <th>Zipcode</th>\n",
              "    </tr>\n",
              "  </thead>\n",
              "  <tbody>\n",
              "    <tr>\n",
              "      <th>42</th>\n",
              "      <td>4</td>\n",
              "      <td>2016-02-09 18:20:58</td>\n",
              "      <td>2016-02-10 00:20:58</td>\n",
              "      <td>40.45112</td>\n",
              "      <td>-85.15048</td>\n",
              "      <td>40.35429</td>\n",
              "      <td>-85.14993</td>\n",
              "      <td>6.690</td>\n",
              "      <td>9001.0</td>\n",
              "      <td>1.0</td>\n",
              "      <td>47336</td>\n",
              "    </tr>\n",
              "    <tr>\n",
              "      <th>43</th>\n",
              "      <td>4</td>\n",
              "      <td>2016-02-09 18:20:58</td>\n",
              "      <td>2016-02-10 00:20:58</td>\n",
              "      <td>40.35429</td>\n",
              "      <td>-85.14993</td>\n",
              "      <td>40.45112</td>\n",
              "      <td>-85.15048</td>\n",
              "      <td>6.690</td>\n",
              "      <td>473.0</td>\n",
              "      <td>1.0</td>\n",
              "      <td>47373-9430</td>\n",
              "    </tr>\n",
              "    <tr>\n",
              "      <th>47</th>\n",
              "      <td>4</td>\n",
              "      <td>2016-02-10 06:18:49</td>\n",
              "      <td>2016-02-10 12:18:49</td>\n",
              "      <td>40.72813</td>\n",
              "      <td>-84.78965</td>\n",
              "      <td>40.74559</td>\n",
              "      <td>-84.78962</td>\n",
              "      <td>1.206</td>\n",
              "      <td>12998.0</td>\n",
              "      <td>1.0</td>\n",
              "      <td>45898-9523</td>\n",
              "    </tr>\n",
              "    <tr>\n",
              "      <th>50</th>\n",
              "      <td>2</td>\n",
              "      <td>2016-02-10 08:35:27</td>\n",
              "      <td>2016-02-10 14:35:27</td>\n",
              "      <td>41.83193</td>\n",
              "      <td>-80.10143</td>\n",
              "      <td>41.84149</td>\n",
              "      <td>-80.11099</td>\n",
              "      <td>0.824</td>\n",
              "      <td>25529.0</td>\n",
              "      <td>0.0</td>\n",
              "      <td>16403</td>\n",
              "    </tr>\n",
              "    <tr>\n",
              "      <th>66</th>\n",
              "      <td>2</td>\n",
              "      <td>2016-02-10 12:54:39</td>\n",
              "      <td>2016-02-10 18:54:39</td>\n",
              "      <td>41.48339</td>\n",
              "      <td>-81.66297</td>\n",
              "      <td>41.47692</td>\n",
              "      <td>-81.66075</td>\n",
              "      <td>0.462</td>\n",
              "      <td>3937.0</td>\n",
              "      <td>0.0</td>\n",
              "      <td>44115</td>\n",
              "    </tr>\n",
              "  </tbody>\n",
              "</table>\n",
              "</div>\n",
              "      <button class=\"colab-df-convert\" onclick=\"convertToInteractive('df-4521a129-adb4-4b0e-975f-6e98fdb4d45e')\"\n",
              "              title=\"Convert this dataframe to an interactive table.\"\n",
              "              style=\"display:none;\">\n",
              "        \n",
              "  <svg xmlns=\"http://www.w3.org/2000/svg\" height=\"24px\"viewBox=\"0 0 24 24\"\n",
              "       width=\"24px\">\n",
              "    <path d=\"M0 0h24v24H0V0z\" fill=\"none\"/>\n",
              "    <path d=\"M18.56 5.44l.94 2.06.94-2.06 2.06-.94-2.06-.94-.94-2.06-.94 2.06-2.06.94zm-11 1L8.5 8.5l.94-2.06 2.06-.94-2.06-.94L8.5 2.5l-.94 2.06-2.06.94zm10 10l.94 2.06.94-2.06 2.06-.94-2.06-.94-.94-2.06-.94 2.06-2.06.94z\"/><path d=\"M17.41 7.96l-1.37-1.37c-.4-.4-.92-.59-1.43-.59-.52 0-1.04.2-1.43.59L10.3 9.45l-7.72 7.72c-.78.78-.78 2.05 0 2.83L4 21.41c.39.39.9.59 1.41.59.51 0 1.02-.2 1.41-.59l7.78-7.78 2.81-2.81c.8-.78.8-2.07 0-2.86zM5.41 20L4 18.59l7.72-7.72 1.47 1.35L5.41 20z\"/>\n",
              "  </svg>\n",
              "      </button>\n",
              "      \n",
              "  <style>\n",
              "    .colab-df-container {\n",
              "      display:flex;\n",
              "      flex-wrap:wrap;\n",
              "      gap: 12px;\n",
              "    }\n",
              "\n",
              "    .colab-df-convert {\n",
              "      background-color: #E8F0FE;\n",
              "      border: none;\n",
              "      border-radius: 50%;\n",
              "      cursor: pointer;\n",
              "      display: none;\n",
              "      fill: #1967D2;\n",
              "      height: 32px;\n",
              "      padding: 0 0 0 0;\n",
              "      width: 32px;\n",
              "    }\n",
              "\n",
              "    .colab-df-convert:hover {\n",
              "      background-color: #E2EBFA;\n",
              "      box-shadow: 0px 1px 2px rgba(60, 64, 67, 0.3), 0px 1px 3px 1px rgba(60, 64, 67, 0.15);\n",
              "      fill: #174EA6;\n",
              "    }\n",
              "\n",
              "    [theme=dark] .colab-df-convert {\n",
              "      background-color: #3B4455;\n",
              "      fill: #D2E3FC;\n",
              "    }\n",
              "\n",
              "    [theme=dark] .colab-df-convert:hover {\n",
              "      background-color: #434B5C;\n",
              "      box-shadow: 0px 1px 3px 1px rgba(0, 0, 0, 0.15);\n",
              "      filter: drop-shadow(0px 1px 2px rgba(0, 0, 0, 0.3));\n",
              "      fill: #FFFFFF;\n",
              "    }\n",
              "  </style>\n",
              "\n",
              "      <script>\n",
              "        const buttonEl =\n",
              "          document.querySelector('#df-4521a129-adb4-4b0e-975f-6e98fdb4d45e button.colab-df-convert');\n",
              "        buttonEl.style.display =\n",
              "          google.colab.kernel.accessAllowed ? 'block' : 'none';\n",
              "\n",
              "        async function convertToInteractive(key) {\n",
              "          const element = document.querySelector('#df-4521a129-adb4-4b0e-975f-6e98fdb4d45e');\n",
              "          const dataTable =\n",
              "            await google.colab.kernel.invokeFunction('convertToInteractive',\n",
              "                                                     [key], {});\n",
              "          if (!dataTable) return;\n",
              "\n",
              "          const docLinkHtml = 'Like what you see? Visit the ' +\n",
              "            '<a target=\"_blank\" href=https://colab.research.google.com/notebooks/data_table.ipynb>data table notebook</a>'\n",
              "            + ' to learn more about interactive tables.';\n",
              "          element.innerHTML = '';\n",
              "          dataTable['output_type'] = 'display_data';\n",
              "          await google.colab.output.renderOutput(dataTable, element);\n",
              "          const docLink = document.createElement('div');\n",
              "          docLink.innerHTML = docLinkHtml;\n",
              "          element.appendChild(docLink);\n",
              "        }\n",
              "      </script>\n",
              "    </div>\n",
              "  </div>\n",
              "  "
            ]
          },
          "metadata": {},
          "execution_count": 45
        }
      ],
      "source": [
        "df.drop(columns=['ID', 'Description', 'Street',\n",
        "        'City', 'County', 'State', 'Country', 'Timezone',\n",
        "       'Airport_Code', 'Weather_Timestamp', 'Temperature(F)', 'Wind_Chill(F)',\n",
        "       'Humidity(%)', 'Pressure(in)', 'Visibility(mi)', 'Wind_Direction',\n",
        "       'Wind_Speed(mph)', 'Precipitation(in)', 'Weather_Condition', 'Amenity',\n",
        "       'Bump', 'Crossing', 'Give_Way', 'Junction', 'No_Exit', 'Railway',\n",
        "       'Roundabout', 'Station', 'Stop', 'Traffic_Calming', 'Traffic_Signal',\n",
        "       'Turning_Loop', 'Sunrise_Sunset', 'Civil_Twilight', 'Nautical_Twilight',\n",
        "       'Astronomical_Twilight'],inplace=True)\n",
        "df.head()"
      ]
    },
    {
      "cell_type": "code",
      "execution_count": 46,
      "metadata": {
        "colab": {
          "base_uri": "https://localhost:8080/",
          "height": 423
        },
        "id": "DiNC8evRmMJi",
        "outputId": "6566bb15-c6ac-460e-a331-fbc4a863ffcb"
      },
      "outputs": [
        {
          "output_type": "execute_result",
          "data": {
            "text/plain": [
              "         Severity  Start_Time    End_Time  Start_Lat   Start_Lng    End_Lat  \\\n",
              "42              4  2016-02-09  2016-02-10  40.451120  -85.150480  40.354290   \n",
              "43              4  2016-02-09  2016-02-10  40.354290  -85.149930  40.451120   \n",
              "47              4  2016-02-10  2016-02-10  40.728130  -84.789650  40.745590   \n",
              "50              2  2016-02-10  2016-02-10  41.831930  -80.101430  41.841490   \n",
              "66              2  2016-02-10  2016-02-10  41.483390  -81.662970  41.476920   \n",
              "...           ...         ...         ...        ...         ...        ...   \n",
              "2033962         2  2020-11-27  2020-11-27  30.456258  -84.277507  30.456268   \n",
              "2033963         2  2020-11-05  2020-11-05  42.933803  -85.666989  42.933876   \n",
              "2033964         2  2020-10-02  2020-10-03  25.899505  -80.185357  25.899528   \n",
              "2033966         2  2020-10-10  2020-10-10  28.553187  -81.367283  28.553179   \n",
              "2033970         2  2020-11-02  2020-11-02  33.954187 -118.237403  33.953273   \n",
              "\n",
              "            End_Lng  Distance(mi)   Number  Side     Zipcode    StTime  \\\n",
              "42       -85.149930         6.690   9001.0   1.0       47336  18:20:58   \n",
              "43       -85.150480         6.690    473.0   1.0  47373-9430  18:20:58   \n",
              "47       -84.789620         1.206  12998.0   1.0  45898-9523  06:18:49   \n",
              "50       -80.110990         0.824  25529.0   0.0       16403  08:35:27   \n",
              "66       -81.660750         0.462   3937.0   0.0       44115  12:54:39   \n",
              "...             ...           ...      ...   ...         ...       ...   \n",
              "2033962  -84.276487         0.061   1300.0   0.0  32303-5608  18:33:00   \n",
              "2033963  -85.671914         0.249      2.0   0.0  49507-1621  19:03:02   \n",
              "2033964  -80.184815         0.034    676.0   1.0  33161-7519  23:47:51   \n",
              "2033966  -81.366531         0.046    852.0   1.0  32803-4639  21:50:00   \n",
              "2033970 -118.237412         0.063   9099.0   1.0  90002-1814  20:43:00   \n",
              "\n",
              "           EnTime  \n",
              "42       00:20:58  \n",
              "43       00:20:58  \n",
              "47       12:18:49  \n",
              "50       14:35:27  \n",
              "66       18:54:39  \n",
              "...           ...  \n",
              "2033962  20:25:59  \n",
              "2033963  20:18:02  \n",
              "2033964  02:46:14  \n",
              "2033966  23:22:33  \n",
              "2033970  22:43:37  \n",
              "\n",
              "[794687 rows x 13 columns]"
            ],
            "text/html": [
              "\n",
              "  <div id=\"df-e4c6a4a0-590c-40b2-93ff-ce37899a08f0\">\n",
              "    <div class=\"colab-df-container\">\n",
              "      <div>\n",
              "<style scoped>\n",
              "    .dataframe tbody tr th:only-of-type {\n",
              "        vertical-align: middle;\n",
              "    }\n",
              "\n",
              "    .dataframe tbody tr th {\n",
              "        vertical-align: top;\n",
              "    }\n",
              "\n",
              "    .dataframe thead th {\n",
              "        text-align: right;\n",
              "    }\n",
              "</style>\n",
              "<table border=\"1\" class=\"dataframe\">\n",
              "  <thead>\n",
              "    <tr style=\"text-align: right;\">\n",
              "      <th></th>\n",
              "      <th>Severity</th>\n",
              "      <th>Start_Time</th>\n",
              "      <th>End_Time</th>\n",
              "      <th>Start_Lat</th>\n",
              "      <th>Start_Lng</th>\n",
              "      <th>End_Lat</th>\n",
              "      <th>End_Lng</th>\n",
              "      <th>Distance(mi)</th>\n",
              "      <th>Number</th>\n",
              "      <th>Side</th>\n",
              "      <th>Zipcode</th>\n",
              "      <th>StTime</th>\n",
              "      <th>EnTime</th>\n",
              "    </tr>\n",
              "  </thead>\n",
              "  <tbody>\n",
              "    <tr>\n",
              "      <th>42</th>\n",
              "      <td>4</td>\n",
              "      <td>2016-02-09</td>\n",
              "      <td>2016-02-10</td>\n",
              "      <td>40.451120</td>\n",
              "      <td>-85.150480</td>\n",
              "      <td>40.354290</td>\n",
              "      <td>-85.149930</td>\n",
              "      <td>6.690</td>\n",
              "      <td>9001.0</td>\n",
              "      <td>1.0</td>\n",
              "      <td>47336</td>\n",
              "      <td>18:20:58</td>\n",
              "      <td>00:20:58</td>\n",
              "    </tr>\n",
              "    <tr>\n",
              "      <th>43</th>\n",
              "      <td>4</td>\n",
              "      <td>2016-02-09</td>\n",
              "      <td>2016-02-10</td>\n",
              "      <td>40.354290</td>\n",
              "      <td>-85.149930</td>\n",
              "      <td>40.451120</td>\n",
              "      <td>-85.150480</td>\n",
              "      <td>6.690</td>\n",
              "      <td>473.0</td>\n",
              "      <td>1.0</td>\n",
              "      <td>47373-9430</td>\n",
              "      <td>18:20:58</td>\n",
              "      <td>00:20:58</td>\n",
              "    </tr>\n",
              "    <tr>\n",
              "      <th>47</th>\n",
              "      <td>4</td>\n",
              "      <td>2016-02-10</td>\n",
              "      <td>2016-02-10</td>\n",
              "      <td>40.728130</td>\n",
              "      <td>-84.789650</td>\n",
              "      <td>40.745590</td>\n",
              "      <td>-84.789620</td>\n",
              "      <td>1.206</td>\n",
              "      <td>12998.0</td>\n",
              "      <td>1.0</td>\n",
              "      <td>45898-9523</td>\n",
              "      <td>06:18:49</td>\n",
              "      <td>12:18:49</td>\n",
              "    </tr>\n",
              "    <tr>\n",
              "      <th>50</th>\n",
              "      <td>2</td>\n",
              "      <td>2016-02-10</td>\n",
              "      <td>2016-02-10</td>\n",
              "      <td>41.831930</td>\n",
              "      <td>-80.101430</td>\n",
              "      <td>41.841490</td>\n",
              "      <td>-80.110990</td>\n",
              "      <td>0.824</td>\n",
              "      <td>25529.0</td>\n",
              "      <td>0.0</td>\n",
              "      <td>16403</td>\n",
              "      <td>08:35:27</td>\n",
              "      <td>14:35:27</td>\n",
              "    </tr>\n",
              "    <tr>\n",
              "      <th>66</th>\n",
              "      <td>2</td>\n",
              "      <td>2016-02-10</td>\n",
              "      <td>2016-02-10</td>\n",
              "      <td>41.483390</td>\n",
              "      <td>-81.662970</td>\n",
              "      <td>41.476920</td>\n",
              "      <td>-81.660750</td>\n",
              "      <td>0.462</td>\n",
              "      <td>3937.0</td>\n",
              "      <td>0.0</td>\n",
              "      <td>44115</td>\n",
              "      <td>12:54:39</td>\n",
              "      <td>18:54:39</td>\n",
              "    </tr>\n",
              "    <tr>\n",
              "      <th>...</th>\n",
              "      <td>...</td>\n",
              "      <td>...</td>\n",
              "      <td>...</td>\n",
              "      <td>...</td>\n",
              "      <td>...</td>\n",
              "      <td>...</td>\n",
              "      <td>...</td>\n",
              "      <td>...</td>\n",
              "      <td>...</td>\n",
              "      <td>...</td>\n",
              "      <td>...</td>\n",
              "      <td>...</td>\n",
              "      <td>...</td>\n",
              "    </tr>\n",
              "    <tr>\n",
              "      <th>2033962</th>\n",
              "      <td>2</td>\n",
              "      <td>2020-11-27</td>\n",
              "      <td>2020-11-27</td>\n",
              "      <td>30.456258</td>\n",
              "      <td>-84.277507</td>\n",
              "      <td>30.456268</td>\n",
              "      <td>-84.276487</td>\n",
              "      <td>0.061</td>\n",
              "      <td>1300.0</td>\n",
              "      <td>0.0</td>\n",
              "      <td>32303-5608</td>\n",
              "      <td>18:33:00</td>\n",
              "      <td>20:25:59</td>\n",
              "    </tr>\n",
              "    <tr>\n",
              "      <th>2033963</th>\n",
              "      <td>2</td>\n",
              "      <td>2020-11-05</td>\n",
              "      <td>2020-11-05</td>\n",
              "      <td>42.933803</td>\n",
              "      <td>-85.666989</td>\n",
              "      <td>42.933876</td>\n",
              "      <td>-85.671914</td>\n",
              "      <td>0.249</td>\n",
              "      <td>2.0</td>\n",
              "      <td>0.0</td>\n",
              "      <td>49507-1621</td>\n",
              "      <td>19:03:02</td>\n",
              "      <td>20:18:02</td>\n",
              "    </tr>\n",
              "    <tr>\n",
              "      <th>2033964</th>\n",
              "      <td>2</td>\n",
              "      <td>2020-10-02</td>\n",
              "      <td>2020-10-03</td>\n",
              "      <td>25.899505</td>\n",
              "      <td>-80.185357</td>\n",
              "      <td>25.899528</td>\n",
              "      <td>-80.184815</td>\n",
              "      <td>0.034</td>\n",
              "      <td>676.0</td>\n",
              "      <td>1.0</td>\n",
              "      <td>33161-7519</td>\n",
              "      <td>23:47:51</td>\n",
              "      <td>02:46:14</td>\n",
              "    </tr>\n",
              "    <tr>\n",
              "      <th>2033966</th>\n",
              "      <td>2</td>\n",
              "      <td>2020-10-10</td>\n",
              "      <td>2020-10-10</td>\n",
              "      <td>28.553187</td>\n",
              "      <td>-81.367283</td>\n",
              "      <td>28.553179</td>\n",
              "      <td>-81.366531</td>\n",
              "      <td>0.046</td>\n",
              "      <td>852.0</td>\n",
              "      <td>1.0</td>\n",
              "      <td>32803-4639</td>\n",
              "      <td>21:50:00</td>\n",
              "      <td>23:22:33</td>\n",
              "    </tr>\n",
              "    <tr>\n",
              "      <th>2033970</th>\n",
              "      <td>2</td>\n",
              "      <td>2020-11-02</td>\n",
              "      <td>2020-11-02</td>\n",
              "      <td>33.954187</td>\n",
              "      <td>-118.237403</td>\n",
              "      <td>33.953273</td>\n",
              "      <td>-118.237412</td>\n",
              "      <td>0.063</td>\n",
              "      <td>9099.0</td>\n",
              "      <td>1.0</td>\n",
              "      <td>90002-1814</td>\n",
              "      <td>20:43:00</td>\n",
              "      <td>22:43:37</td>\n",
              "    </tr>\n",
              "  </tbody>\n",
              "</table>\n",
              "<p>794687 rows × 13 columns</p>\n",
              "</div>\n",
              "      <button class=\"colab-df-convert\" onclick=\"convertToInteractive('df-e4c6a4a0-590c-40b2-93ff-ce37899a08f0')\"\n",
              "              title=\"Convert this dataframe to an interactive table.\"\n",
              "              style=\"display:none;\">\n",
              "        \n",
              "  <svg xmlns=\"http://www.w3.org/2000/svg\" height=\"24px\"viewBox=\"0 0 24 24\"\n",
              "       width=\"24px\">\n",
              "    <path d=\"M0 0h24v24H0V0z\" fill=\"none\"/>\n",
              "    <path d=\"M18.56 5.44l.94 2.06.94-2.06 2.06-.94-2.06-.94-.94-2.06-.94 2.06-2.06.94zm-11 1L8.5 8.5l.94-2.06 2.06-.94-2.06-.94L8.5 2.5l-.94 2.06-2.06.94zm10 10l.94 2.06.94-2.06 2.06-.94-2.06-.94-.94-2.06-.94 2.06-2.06.94z\"/><path d=\"M17.41 7.96l-1.37-1.37c-.4-.4-.92-.59-1.43-.59-.52 0-1.04.2-1.43.59L10.3 9.45l-7.72 7.72c-.78.78-.78 2.05 0 2.83L4 21.41c.39.39.9.59 1.41.59.51 0 1.02-.2 1.41-.59l7.78-7.78 2.81-2.81c.8-.78.8-2.07 0-2.86zM5.41 20L4 18.59l7.72-7.72 1.47 1.35L5.41 20z\"/>\n",
              "  </svg>\n",
              "      </button>\n",
              "      \n",
              "  <style>\n",
              "    .colab-df-container {\n",
              "      display:flex;\n",
              "      flex-wrap:wrap;\n",
              "      gap: 12px;\n",
              "    }\n",
              "\n",
              "    .colab-df-convert {\n",
              "      background-color: #E8F0FE;\n",
              "      border: none;\n",
              "      border-radius: 50%;\n",
              "      cursor: pointer;\n",
              "      display: none;\n",
              "      fill: #1967D2;\n",
              "      height: 32px;\n",
              "      padding: 0 0 0 0;\n",
              "      width: 32px;\n",
              "    }\n",
              "\n",
              "    .colab-df-convert:hover {\n",
              "      background-color: #E2EBFA;\n",
              "      box-shadow: 0px 1px 2px rgba(60, 64, 67, 0.3), 0px 1px 3px 1px rgba(60, 64, 67, 0.15);\n",
              "      fill: #174EA6;\n",
              "    }\n",
              "\n",
              "    [theme=dark] .colab-df-convert {\n",
              "      background-color: #3B4455;\n",
              "      fill: #D2E3FC;\n",
              "    }\n",
              "\n",
              "    [theme=dark] .colab-df-convert:hover {\n",
              "      background-color: #434B5C;\n",
              "      box-shadow: 0px 1px 3px 1px rgba(0, 0, 0, 0.15);\n",
              "      filter: drop-shadow(0px 1px 2px rgba(0, 0, 0, 0.3));\n",
              "      fill: #FFFFFF;\n",
              "    }\n",
              "  </style>\n",
              "\n",
              "      <script>\n",
              "        const buttonEl =\n",
              "          document.querySelector('#df-e4c6a4a0-590c-40b2-93ff-ce37899a08f0 button.colab-df-convert');\n",
              "        buttonEl.style.display =\n",
              "          google.colab.kernel.accessAllowed ? 'block' : 'none';\n",
              "\n",
              "        async function convertToInteractive(key) {\n",
              "          const element = document.querySelector('#df-e4c6a4a0-590c-40b2-93ff-ce37899a08f0');\n",
              "          const dataTable =\n",
              "            await google.colab.kernel.invokeFunction('convertToInteractive',\n",
              "                                                     [key], {});\n",
              "          if (!dataTable) return;\n",
              "\n",
              "          const docLinkHtml = 'Like what you see? Visit the ' +\n",
              "            '<a target=\"_blank\" href=https://colab.research.google.com/notebooks/data_table.ipynb>data table notebook</a>'\n",
              "            + ' to learn more about interactive tables.';\n",
              "          element.innerHTML = '';\n",
              "          dataTable['output_type'] = 'display_data';\n",
              "          await google.colab.output.renderOutput(dataTable, element);\n",
              "          const docLink = document.createElement('div');\n",
              "          docLink.innerHTML = docLinkHtml;\n",
              "          element.appendChild(docLink);\n",
              "        }\n",
              "      </script>\n",
              "    </div>\n",
              "  </div>\n",
              "  "
            ]
          },
          "metadata": {},
          "execution_count": 46
        }
      ],
      "source": [
        "df[['Start_Time','StTime']] = df['Start_Time'].str.split(expand=True)\n",
        "df[['End_Time','EnTime']] = df['End_Time'].str.split(expand=True)\n",
        "df"
      ]
    },
    {
      "cell_type": "code",
      "execution_count": 47,
      "metadata": {
        "colab": {
          "base_uri": "https://localhost:8080/",
          "height": 423
        },
        "id": "sNo5uuZ9vjoI",
        "outputId": "07c4b4a4-8c61-4de0-ff1b-11187e820230"
      },
      "outputs": [
        {
          "output_type": "execute_result",
          "data": {
            "text/plain": [
              "         Severity Start_Time  End_Time  Start_Lat   Start_Lng    End_Lat  \\\n",
              "42              4   20160209  20160210  40.451120  -85.150480  40.354290   \n",
              "43              4   20160209  20160210  40.354290  -85.149930  40.451120   \n",
              "47              4   20160210  20160210  40.728130  -84.789650  40.745590   \n",
              "50              2   20160210  20160210  41.831930  -80.101430  41.841490   \n",
              "66              2   20160210  20160210  41.483390  -81.662970  41.476920   \n",
              "...           ...        ...       ...        ...         ...        ...   \n",
              "2033962         2   20201127  20201127  30.456258  -84.277507  30.456268   \n",
              "2033963         2   20201105  20201105  42.933803  -85.666989  42.933876   \n",
              "2033964         2   20201002  20201003  25.899505  -80.185357  25.899528   \n",
              "2033966         2   20201010  20201010  28.553187  -81.367283  28.553179   \n",
              "2033970         2   20201102  20201102  33.954187 -118.237403  33.953273   \n",
              "\n",
              "            End_Lng  Distance(mi)   Number  Side    Zipcode  StTime  EnTime  \n",
              "42       -85.149930         6.690   9001.0   1.0      47336  182058  002058  \n",
              "43       -85.150480         6.690    473.0   1.0  473739430  182058  002058  \n",
              "47       -84.789620         1.206  12998.0   1.0  458989523  061849  121849  \n",
              "50       -80.110990         0.824  25529.0   0.0      16403  083527  143527  \n",
              "66       -81.660750         0.462   3937.0   0.0      44115  125439  185439  \n",
              "...             ...           ...      ...   ...        ...     ...     ...  \n",
              "2033962  -84.276487         0.061   1300.0   0.0  323035608  183300  202559  \n",
              "2033963  -85.671914         0.249      2.0   0.0  495071621  190302  201802  \n",
              "2033964  -80.184815         0.034    676.0   1.0  331617519  234751  024614  \n",
              "2033966  -81.366531         0.046    852.0   1.0  328034639  215000  232233  \n",
              "2033970 -118.237412         0.063   9099.0   1.0  900021814  204300  224337  \n",
              "\n",
              "[794687 rows x 13 columns]"
            ],
            "text/html": [
              "\n",
              "  <div id=\"df-ba22a7ac-22ff-4beb-90a9-45d19b05236b\">\n",
              "    <div class=\"colab-df-container\">\n",
              "      <div>\n",
              "<style scoped>\n",
              "    .dataframe tbody tr th:only-of-type {\n",
              "        vertical-align: middle;\n",
              "    }\n",
              "\n",
              "    .dataframe tbody tr th {\n",
              "        vertical-align: top;\n",
              "    }\n",
              "\n",
              "    .dataframe thead th {\n",
              "        text-align: right;\n",
              "    }\n",
              "</style>\n",
              "<table border=\"1\" class=\"dataframe\">\n",
              "  <thead>\n",
              "    <tr style=\"text-align: right;\">\n",
              "      <th></th>\n",
              "      <th>Severity</th>\n",
              "      <th>Start_Time</th>\n",
              "      <th>End_Time</th>\n",
              "      <th>Start_Lat</th>\n",
              "      <th>Start_Lng</th>\n",
              "      <th>End_Lat</th>\n",
              "      <th>End_Lng</th>\n",
              "      <th>Distance(mi)</th>\n",
              "      <th>Number</th>\n",
              "      <th>Side</th>\n",
              "      <th>Zipcode</th>\n",
              "      <th>StTime</th>\n",
              "      <th>EnTime</th>\n",
              "    </tr>\n",
              "  </thead>\n",
              "  <tbody>\n",
              "    <tr>\n",
              "      <th>42</th>\n",
              "      <td>4</td>\n",
              "      <td>20160209</td>\n",
              "      <td>20160210</td>\n",
              "      <td>40.451120</td>\n",
              "      <td>-85.150480</td>\n",
              "      <td>40.354290</td>\n",
              "      <td>-85.149930</td>\n",
              "      <td>6.690</td>\n",
              "      <td>9001.0</td>\n",
              "      <td>1.0</td>\n",
              "      <td>47336</td>\n",
              "      <td>182058</td>\n",
              "      <td>002058</td>\n",
              "    </tr>\n",
              "    <tr>\n",
              "      <th>43</th>\n",
              "      <td>4</td>\n",
              "      <td>20160209</td>\n",
              "      <td>20160210</td>\n",
              "      <td>40.354290</td>\n",
              "      <td>-85.149930</td>\n",
              "      <td>40.451120</td>\n",
              "      <td>-85.150480</td>\n",
              "      <td>6.690</td>\n",
              "      <td>473.0</td>\n",
              "      <td>1.0</td>\n",
              "      <td>473739430</td>\n",
              "      <td>182058</td>\n",
              "      <td>002058</td>\n",
              "    </tr>\n",
              "    <tr>\n",
              "      <th>47</th>\n",
              "      <td>4</td>\n",
              "      <td>20160210</td>\n",
              "      <td>20160210</td>\n",
              "      <td>40.728130</td>\n",
              "      <td>-84.789650</td>\n",
              "      <td>40.745590</td>\n",
              "      <td>-84.789620</td>\n",
              "      <td>1.206</td>\n",
              "      <td>12998.0</td>\n",
              "      <td>1.0</td>\n",
              "      <td>458989523</td>\n",
              "      <td>061849</td>\n",
              "      <td>121849</td>\n",
              "    </tr>\n",
              "    <tr>\n",
              "      <th>50</th>\n",
              "      <td>2</td>\n",
              "      <td>20160210</td>\n",
              "      <td>20160210</td>\n",
              "      <td>41.831930</td>\n",
              "      <td>-80.101430</td>\n",
              "      <td>41.841490</td>\n",
              "      <td>-80.110990</td>\n",
              "      <td>0.824</td>\n",
              "      <td>25529.0</td>\n",
              "      <td>0.0</td>\n",
              "      <td>16403</td>\n",
              "      <td>083527</td>\n",
              "      <td>143527</td>\n",
              "    </tr>\n",
              "    <tr>\n",
              "      <th>66</th>\n",
              "      <td>2</td>\n",
              "      <td>20160210</td>\n",
              "      <td>20160210</td>\n",
              "      <td>41.483390</td>\n",
              "      <td>-81.662970</td>\n",
              "      <td>41.476920</td>\n",
              "      <td>-81.660750</td>\n",
              "      <td>0.462</td>\n",
              "      <td>3937.0</td>\n",
              "      <td>0.0</td>\n",
              "      <td>44115</td>\n",
              "      <td>125439</td>\n",
              "      <td>185439</td>\n",
              "    </tr>\n",
              "    <tr>\n",
              "      <th>...</th>\n",
              "      <td>...</td>\n",
              "      <td>...</td>\n",
              "      <td>...</td>\n",
              "      <td>...</td>\n",
              "      <td>...</td>\n",
              "      <td>...</td>\n",
              "      <td>...</td>\n",
              "      <td>...</td>\n",
              "      <td>...</td>\n",
              "      <td>...</td>\n",
              "      <td>...</td>\n",
              "      <td>...</td>\n",
              "      <td>...</td>\n",
              "    </tr>\n",
              "    <tr>\n",
              "      <th>2033962</th>\n",
              "      <td>2</td>\n",
              "      <td>20201127</td>\n",
              "      <td>20201127</td>\n",
              "      <td>30.456258</td>\n",
              "      <td>-84.277507</td>\n",
              "      <td>30.456268</td>\n",
              "      <td>-84.276487</td>\n",
              "      <td>0.061</td>\n",
              "      <td>1300.0</td>\n",
              "      <td>0.0</td>\n",
              "      <td>323035608</td>\n",
              "      <td>183300</td>\n",
              "      <td>202559</td>\n",
              "    </tr>\n",
              "    <tr>\n",
              "      <th>2033963</th>\n",
              "      <td>2</td>\n",
              "      <td>20201105</td>\n",
              "      <td>20201105</td>\n",
              "      <td>42.933803</td>\n",
              "      <td>-85.666989</td>\n",
              "      <td>42.933876</td>\n",
              "      <td>-85.671914</td>\n",
              "      <td>0.249</td>\n",
              "      <td>2.0</td>\n",
              "      <td>0.0</td>\n",
              "      <td>495071621</td>\n",
              "      <td>190302</td>\n",
              "      <td>201802</td>\n",
              "    </tr>\n",
              "    <tr>\n",
              "      <th>2033964</th>\n",
              "      <td>2</td>\n",
              "      <td>20201002</td>\n",
              "      <td>20201003</td>\n",
              "      <td>25.899505</td>\n",
              "      <td>-80.185357</td>\n",
              "      <td>25.899528</td>\n",
              "      <td>-80.184815</td>\n",
              "      <td>0.034</td>\n",
              "      <td>676.0</td>\n",
              "      <td>1.0</td>\n",
              "      <td>331617519</td>\n",
              "      <td>234751</td>\n",
              "      <td>024614</td>\n",
              "    </tr>\n",
              "    <tr>\n",
              "      <th>2033966</th>\n",
              "      <td>2</td>\n",
              "      <td>20201010</td>\n",
              "      <td>20201010</td>\n",
              "      <td>28.553187</td>\n",
              "      <td>-81.367283</td>\n",
              "      <td>28.553179</td>\n",
              "      <td>-81.366531</td>\n",
              "      <td>0.046</td>\n",
              "      <td>852.0</td>\n",
              "      <td>1.0</td>\n",
              "      <td>328034639</td>\n",
              "      <td>215000</td>\n",
              "      <td>232233</td>\n",
              "    </tr>\n",
              "    <tr>\n",
              "      <th>2033970</th>\n",
              "      <td>2</td>\n",
              "      <td>20201102</td>\n",
              "      <td>20201102</td>\n",
              "      <td>33.954187</td>\n",
              "      <td>-118.237403</td>\n",
              "      <td>33.953273</td>\n",
              "      <td>-118.237412</td>\n",
              "      <td>0.063</td>\n",
              "      <td>9099.0</td>\n",
              "      <td>1.0</td>\n",
              "      <td>900021814</td>\n",
              "      <td>204300</td>\n",
              "      <td>224337</td>\n",
              "    </tr>\n",
              "  </tbody>\n",
              "</table>\n",
              "<p>794687 rows × 13 columns</p>\n",
              "</div>\n",
              "      <button class=\"colab-df-convert\" onclick=\"convertToInteractive('df-ba22a7ac-22ff-4beb-90a9-45d19b05236b')\"\n",
              "              title=\"Convert this dataframe to an interactive table.\"\n",
              "              style=\"display:none;\">\n",
              "        \n",
              "  <svg xmlns=\"http://www.w3.org/2000/svg\" height=\"24px\"viewBox=\"0 0 24 24\"\n",
              "       width=\"24px\">\n",
              "    <path d=\"M0 0h24v24H0V0z\" fill=\"none\"/>\n",
              "    <path d=\"M18.56 5.44l.94 2.06.94-2.06 2.06-.94-2.06-.94-.94-2.06-.94 2.06-2.06.94zm-11 1L8.5 8.5l.94-2.06 2.06-.94-2.06-.94L8.5 2.5l-.94 2.06-2.06.94zm10 10l.94 2.06.94-2.06 2.06-.94-2.06-.94-.94-2.06-.94 2.06-2.06.94z\"/><path d=\"M17.41 7.96l-1.37-1.37c-.4-.4-.92-.59-1.43-.59-.52 0-1.04.2-1.43.59L10.3 9.45l-7.72 7.72c-.78.78-.78 2.05 0 2.83L4 21.41c.39.39.9.59 1.41.59.51 0 1.02-.2 1.41-.59l7.78-7.78 2.81-2.81c.8-.78.8-2.07 0-2.86zM5.41 20L4 18.59l7.72-7.72 1.47 1.35L5.41 20z\"/>\n",
              "  </svg>\n",
              "      </button>\n",
              "      \n",
              "  <style>\n",
              "    .colab-df-container {\n",
              "      display:flex;\n",
              "      flex-wrap:wrap;\n",
              "      gap: 12px;\n",
              "    }\n",
              "\n",
              "    .colab-df-convert {\n",
              "      background-color: #E8F0FE;\n",
              "      border: none;\n",
              "      border-radius: 50%;\n",
              "      cursor: pointer;\n",
              "      display: none;\n",
              "      fill: #1967D2;\n",
              "      height: 32px;\n",
              "      padding: 0 0 0 0;\n",
              "      width: 32px;\n",
              "    }\n",
              "\n",
              "    .colab-df-convert:hover {\n",
              "      background-color: #E2EBFA;\n",
              "      box-shadow: 0px 1px 2px rgba(60, 64, 67, 0.3), 0px 1px 3px 1px rgba(60, 64, 67, 0.15);\n",
              "      fill: #174EA6;\n",
              "    }\n",
              "\n",
              "    [theme=dark] .colab-df-convert {\n",
              "      background-color: #3B4455;\n",
              "      fill: #D2E3FC;\n",
              "    }\n",
              "\n",
              "    [theme=dark] .colab-df-convert:hover {\n",
              "      background-color: #434B5C;\n",
              "      box-shadow: 0px 1px 3px 1px rgba(0, 0, 0, 0.15);\n",
              "      filter: drop-shadow(0px 1px 2px rgba(0, 0, 0, 0.3));\n",
              "      fill: #FFFFFF;\n",
              "    }\n",
              "  </style>\n",
              "\n",
              "      <script>\n",
              "        const buttonEl =\n",
              "          document.querySelector('#df-ba22a7ac-22ff-4beb-90a9-45d19b05236b button.colab-df-convert');\n",
              "        buttonEl.style.display =\n",
              "          google.colab.kernel.accessAllowed ? 'block' : 'none';\n",
              "\n",
              "        async function convertToInteractive(key) {\n",
              "          const element = document.querySelector('#df-ba22a7ac-22ff-4beb-90a9-45d19b05236b');\n",
              "          const dataTable =\n",
              "            await google.colab.kernel.invokeFunction('convertToInteractive',\n",
              "                                                     [key], {});\n",
              "          if (!dataTable) return;\n",
              "\n",
              "          const docLinkHtml = 'Like what you see? Visit the ' +\n",
              "            '<a target=\"_blank\" href=https://colab.research.google.com/notebooks/data_table.ipynb>data table notebook</a>'\n",
              "            + ' to learn more about interactive tables.';\n",
              "          element.innerHTML = '';\n",
              "          dataTable['output_type'] = 'display_data';\n",
              "          await google.colab.output.renderOutput(dataTable, element);\n",
              "          const docLink = document.createElement('div');\n",
              "          docLink.innerHTML = docLinkHtml;\n",
              "          element.appendChild(docLink);\n",
              "        }\n",
              "      </script>\n",
              "    </div>\n",
              "  </div>\n",
              "  "
            ]
          },
          "metadata": {},
          "execution_count": 47
        }
      ],
      "source": [
        "df['Start_Time']=df['Start_Time'].str.replace('-','')\n",
        "df['End_Time']=df['End_Time'].str.replace('-','')\n",
        "df['StTime']=df['StTime'].str.replace(':','')\n",
        "df['EnTime']=df['EnTime'].str.replace(':','')\n",
        "df['Zipcode'] = df['Zipcode'].str.replace('-','')\n",
        "df"
      ]
    },
    {
      "cell_type": "code",
      "execution_count": 48,
      "metadata": {
        "id": "aUaiGs07rTjV"
      },
      "outputs": [],
      "source": [
        "# df['Start_Time'] = pd.to_datetime(df['Start_Time'], format='%Y%m%d')\n",
        "# #pd.to_datetime(df['Start_Time'])\n",
        "# df"
      ]
    },
    {
      "cell_type": "code",
      "execution_count": 49,
      "metadata": {
        "id": "mpVKxais1FGF"
      },
      "outputs": [],
      "source": [
        "# df = df.sample(100)\n",
        "# print(len(df))"
      ]
    },
    {
      "cell_type": "code",
      "execution_count": 98,
      "metadata": {
        "colab": {
          "base_uri": "https://localhost:8080/"
        },
        "id": "bw8JEhC4b1MI",
        "outputId": "b5fed829-90ac-40c5-a0a6-2afcead468e0"
      },
      "outputs": [
        {
          "output_type": "stream",
          "name": "stdout",
          "text": [
            "[['20160209' '20160210' 40.45112 ... '47336' '182058' '002058']\n",
            " ['20160209' '20160210' 40.35429 ... '473739430' '182058' '002058']\n",
            " ['20160210' '20160210' 40.72813 ... '458989523' '061849' '121849']\n",
            " ...\n",
            " ['20201002' '20201003' 25.899505 ... '331617519' '234751' '024614']\n",
            " ['20201010' '20201010' 28.553187 ... '328034639' '215000' '232233']\n",
            " ['20201102' '20201102' 33.954187 ... '900021814' '204300' '224337']]\n",
            "[[4]\n",
            " [4]\n",
            " [4]\n",
            " ...\n",
            " [2]\n",
            " [2]\n",
            " [2]]\n"
          ]
        }
      ],
      "source": [
        "X = df.iloc[:, 1:13].values\n",
        "Y = df.iloc[:,0:1].values\n",
        "# Y = Y.reshape(-1,1)\n",
        "print(X)\n",
        "print(Y)"
      ]
    },
    {
      "cell_type": "code",
      "execution_count": 99,
      "metadata": {
        "colab": {
          "base_uri": "https://localhost:8080/"
        },
        "id": "oJsPjzsKb1P4",
        "outputId": "3caa963d-6578-4eb8-edf0-ff0bc0b8b5cc"
      },
      "outputs": [
        {
          "output_type": "stream",
          "name": "stdout",
          "text": [
            "No. of training examples: 635749\n",
            "No. of testing examples: 158938\n",
            "No. of training examples: 635749\n",
            "No. of testing examples: 158938\n"
          ]
        }
      ],
      "source": [
        "X_train, X_test, Y_train, Y_test = train_test_split(X, Y,random_state = 0, train_size = .8)\n",
        "print(f\"No. of training examples: {X_train.shape[0]}\")\n",
        "print(f\"No. of testing examples: {X_test.shape[0]}\")\n",
        "print(f\"No. of training examples: {Y_train.shape[0]}\")\n",
        "print(f\"No. of testing examples: {Y_test.shape[0]}\")"
      ]
    },
    {
      "cell_type": "code",
      "execution_count": 100,
      "metadata": {
        "id": "VaHsfWNLb1Xp"
      },
      "outputs": [],
      "source": [
        "sc_X = StandardScaler()\n",
        "X_train = sc_X.fit_transform(X_train)\n",
        "X_test = sc_X.transform(X_test)"
      ]
    },
    {
      "cell_type": "code",
      "execution_count": 101,
      "metadata": {
        "id": "mFy5r8kNgOzh"
      },
      "outputs": [],
      "source": [
        "X_0 = np.ones((X_train.shape[0],1))\n",
        "X_0V = np.ones((X_test.shape[0],1))\n"
      ]
    },
    {
      "cell_type": "code",
      "execution_count": 102,
      "metadata": {
        "id": "uysZMwtDgPAx"
      },
      "outputs": [],
      "source": [
        "K = np.array(range(13))\n",
        "K_max = 13\n",
        "accuracy = np.zeros(13)\n",
        "precision = np.zeros(13)\n",
        "recall = np.zeros(13)\n",
        "mse = np.zeros(13)"
      ]
    },
    {
      "cell_type": "code",
      "execution_count": 103,
      "metadata": {
        "id": "FTlqEP5AHfw8",
        "colab": {
          "base_uri": "https://localhost:8080/"
        },
        "outputId": "b39371a9-5943-4d03-b9cb-0200d0b3da31"
      },
      "outputs": [
        {
          "output_type": "stream",
          "name": "stderr",
          "text": [
            "/usr/local/lib/python3.10/dist-packages/sklearn/utils/validation.py:1143: DataConversionWarning: A column-vector y was passed when a 1d array was expected. Please change the shape of y to (n_samples, ), for example using ravel().\n",
            "  y = column_or_1d(y, warn=True)\n",
            "/usr/local/lib/python3.10/dist-packages/sklearn/utils/validation.py:1143: DataConversionWarning: A column-vector y was passed when a 1d array was expected. Please change the shape of y to (n_samples, ), for example using ravel().\n",
            "  y = column_or_1d(y, warn=True)\n",
            "/usr/local/lib/python3.10/dist-packages/sklearn/utils/validation.py:1143: DataConversionWarning: A column-vector y was passed when a 1d array was expected. Please change the shape of y to (n_samples, ), for example using ravel().\n",
            "  y = column_or_1d(y, warn=True)\n",
            "/usr/local/lib/python3.10/dist-packages/sklearn/utils/validation.py:1143: DataConversionWarning: A column-vector y was passed when a 1d array was expected. Please change the shape of y to (n_samples, ), for example using ravel().\n",
            "  y = column_or_1d(y, warn=True)\n",
            "/usr/local/lib/python3.10/dist-packages/sklearn/utils/validation.py:1143: DataConversionWarning: A column-vector y was passed when a 1d array was expected. Please change the shape of y to (n_samples, ), for example using ravel().\n",
            "  y = column_or_1d(y, warn=True)\n",
            "/usr/local/lib/python3.10/dist-packages/sklearn/utils/validation.py:1143: DataConversionWarning: A column-vector y was passed when a 1d array was expected. Please change the shape of y to (n_samples, ), for example using ravel().\n",
            "  y = column_or_1d(y, warn=True)\n",
            "/usr/local/lib/python3.10/dist-packages/sklearn/utils/validation.py:1143: DataConversionWarning: A column-vector y was passed when a 1d array was expected. Please change the shape of y to (n_samples, ), for example using ravel().\n",
            "  y = column_or_1d(y, warn=True)\n",
            "/usr/local/lib/python3.10/dist-packages/sklearn/utils/validation.py:1143: DataConversionWarning: A column-vector y was passed when a 1d array was expected. Please change the shape of y to (n_samples, ), for example using ravel().\n",
            "  y = column_or_1d(y, warn=True)\n",
            "/usr/local/lib/python3.10/dist-packages/sklearn/utils/validation.py:1143: DataConversionWarning: A column-vector y was passed when a 1d array was expected. Please change the shape of y to (n_samples, ), for example using ravel().\n",
            "  y = column_or_1d(y, warn=True)\n",
            "/usr/local/lib/python3.10/dist-packages/sklearn/utils/validation.py:1143: DataConversionWarning: A column-vector y was passed when a 1d array was expected. Please change the shape of y to (n_samples, ), for example using ravel().\n",
            "  y = column_or_1d(y, warn=True)\n",
            "/usr/local/lib/python3.10/dist-packages/sklearn/utils/validation.py:1143: DataConversionWarning: A column-vector y was passed when a 1d array was expected. Please change the shape of y to (n_samples, ), for example using ravel().\n",
            "  y = column_or_1d(y, warn=True)\n",
            "/usr/local/lib/python3.10/dist-packages/sklearn/utils/validation.py:1143: DataConversionWarning: A column-vector y was passed when a 1d array was expected. Please change the shape of y to (n_samples, ), for example using ravel().\n",
            "  y = column_or_1d(y, warn=True)\n",
            "/usr/local/lib/python3.10/dist-packages/sklearn/utils/validation.py:1143: DataConversionWarning: A column-vector y was passed when a 1d array was expected. Please change the shape of y to (n_samples, ), for example using ravel().\n",
            "  y = column_or_1d(y, warn=True)\n"
          ]
        }
      ],
      "source": [
        "from sklearn.naive_bayes import GaussianNB\n",
        "for k in K:\n",
        "\n",
        "    pca = PCA(n_components = k)\n",
        "    principalComponents = pca.fit_transform(X)\n",
        "\n",
        "    X_train, X_val, Y_train, Y_val = train_test_split(X, Y, train_size = 0.8, test_size = 0.2)\n",
        "    \n",
        "    classifier = GaussianNB()\n",
        "    classifier.fit(X_train, Y_train)\n",
        "\n",
        "    Y_pred = classifier.predict(X_val)\n",
        "    \n",
        "    accuracy[k] = metrics.accuracy_score(Y_val, Y_pred)\n",
        "   \n"
      ]
    },
    {
      "cell_type": "code",
      "execution_count": 104,
      "metadata": {
        "colab": {
          "base_uri": "https://localhost:8080/",
          "height": 489
        },
        "id": "8s2es1xiHf3K",
        "outputId": "1d16e7f0-4263-47df-b348-dd1b9db335fa"
      },
      "outputs": [
        {
          "output_type": "execute_result",
          "data": {
            "text/plain": [
              "<matplotlib.legend.Legend at 0x7fd7431ae3e0>"
            ]
          },
          "metadata": {},
          "execution_count": 104
        },
        {
          "output_type": "display_data",
          "data": {
            "text/plain": [
              "<Figure size 640x480 with 1 Axes>"
            ],
            "image/png": "[encoded data removed]"
          },
          "metadata": {}
        }
      ],
      "source": [
        "plt.figure()\n",
        "plt.plot(range(1, K_max+1), accuracy, color = 'red', label = \"Accuracy\")\n",
        "plt.grid()\n",
        "plt.xlabel('Principal Components')\n",
        "plt.ylabel('Metrics')\n",
        "plt.title('Accuracy over Principal Components')\n",
        "plt.legend()"
      ]
    },
    {
      "cell_type": "code",
      "source": [
        "print(accuracy[k])"
      ],
      "metadata": {
        "colab": {
          "base_uri": "https://localhost:8080/"
        },
        "id": "mpNcKS3VAsR3",
        "outputId": "5e3aa7f5-d5d9-443a-fed1-81a34976a49c"
      },
      "execution_count": 105,
      "outputs": [
        {
          "output_type": "stream",
          "name": "stdout",
          "text": [
            "0.9794448149592923\n"
          ]
        }
      ]
    },
    {
      "cell_type": "code",
      "execution_count": 106,
      "metadata": {
        "id": "tRMHtQegS0Nz"
      },
      "outputs": [],
      "source": [
        "from sklearn.metrics import confusion_matrix\n",
        "\n",
        "def get_confusion_matrix(cnf_matrix):\n",
        "  class_names=[0,1] # name of classes\n",
        "  fig, ax = plt.subplots()\n",
        "  tick_marks = np.arange(len(class_names))\n",
        "  plt.xticks(tick_marks, class_names)\n",
        "  plt.yticks(tick_marks, class_names)\n",
        "  # create heatmap\n",
        "  sns.heatmap(pd.DataFrame(cnf_matrix), annot=True,fmt='g')\n",
        "  ax.xaxis.set_label_position(\"top\")\n",
        "  plt.tight_layout()\n",
        "  plt.title('Confusion matrix', y=1.1)\n",
        "  plt.ylabel('Actual label')\n",
        "  plt.xlabel('Predicted label')\n",
        "\n"
      ]
    },
    {
      "cell_type": "code",
      "execution_count": 107,
      "metadata": {
        "colab": {
          "base_uri": "https://localhost:8080/",
          "height": 551
        },
        "id": "HpemXhcEW2vm",
        "outputId": "8d9c95a5-9294-4bcf-db26-e0987713f7bf"
      },
      "outputs": [
        {
          "output_type": "display_data",
          "data": {
            "text/plain": [
              "<Figure size 640x480 with 2 Axes>"
            ],
            "image/png": "[encoded data removed]"
          },
          "metadata": {}
        }
      ],
      "source": [
        "cnf_matrix = confusion_matrix(Y_test, Y_pred)\n",
        "get_confusion_matrix(cnf_matrix)"
      ]
    },
    {
      "cell_type": "code",
      "execution_count": 108,
      "metadata": {
        "id": "y6pl4_5NxN9E",
        "colab": {
          "base_uri": "https://localhost:8080/",
          "height": 129
        },
        "outputId": "ba529b63-0cbc-4bae-bbe1-f843385c7ed3"
      },
      "outputs": [
        {
          "output_type": "stream",
          "name": "stderr",
          "text": [
            "/usr/local/lib/python3.10/dist-packages/sklearn/utils/validation.py:1143: DataConversionWarning: A column-vector y was passed when a 1d array was expected. Please change the shape of y to (n_samples, ), for example using ravel().\n",
            "  y = column_or_1d(y, warn=True)\n"
          ]
        },
        {
          "output_type": "execute_result",
          "data": {
            "text/plain": [
              "LogisticRegression(random_state=0)"
            ],
            "text/html": [
              "<style>#sk-container-id-5 {color: black;background-color: white;}#sk-container-id-5 pre{padding: 0;}#sk-container-id-5 div.sk-toggleable {background-color: white;}#sk-container-id-5 label.sk-toggleable__label {cursor: pointer;display: block;width: 100%;margin-bottom: 0;padding: 0.3em;box-sizing: border-box;text-align: center;}#sk-container-id-5 label.sk-toggleable__label-arrow:before {content: \"▸\";float: left;margin-right: 0.25em;color: #696969;}#sk-container-id-5 label.sk-toggleable__label-arrow:hover:before {color: black;}#sk-container-id-5 div.sk-estimator:hover label.sk-toggleable__label-arrow:before {color: black;}#sk-container-id-5 div.sk-toggleable__content {max-height: 0;max-width: 0;overflow: hidden;text-align: left;background-color: #f0f8ff;}#sk-container-id-5 div.sk-toggleable__content pre {margin: 0.2em;color: black;border-radius: 0.25em;background-color: #f0f8ff;}#sk-container-id-5 input.sk-toggleable__control:checked~div.sk-toggleable__content {max-height: 200px;max-width: 100%;overflow: auto;}#sk-container-id-5 input.sk-toggleable__control:checked~label.sk-toggleable__label-arrow:before {content: \"▾\";}#sk-container-id-5 div.sk-estimator input.sk-toggleable__control:checked~label.sk-toggleable__label {background-color: #d4ebff;}#sk-container-id-5 div.sk-label input.sk-toggleable__control:checked~label.sk-toggleable__label {background-color: #d4ebff;}#sk-container-id-5 input.sk-hidden--visually {border: 0;clip: rect(1px 1px 1px 1px);clip: rect(1px, 1px, 1px, 1px);height: 1px;margin: -1px;overflow: hidden;padding: 0;position: absolute;width: 1px;}#sk-container-id-5 div.sk-estimator {font-family: monospace;background-color: #f0f8ff;border: 1px dotted black;border-radius: 0.25em;box-sizing: border-box;margin-bottom: 0.5em;}#sk-container-id-5 div.sk-estimator:hover {background-color: #d4ebff;}#sk-container-id-5 div.sk-parallel-item::after {content: \"\";width: 100%;border-bottom: 1px solid gray;flex-grow: 1;}#sk-container-id-5 div.sk-label:hover label.sk-toggleable__label {background-color: #d4ebff;}#sk-container-id-5 div.sk-serial::before {content: \"\";position: absolute;border-left: 1px solid gray;box-sizing: border-box;top: 0;bottom: 0;left: 50%;z-index: 0;}#sk-container-id-5 div.sk-serial {display: flex;flex-direction: column;align-items: center;background-color: white;padding-right: 0.2em;padding-left: 0.2em;position: relative;}#sk-container-id-5 div.sk-item {position: relative;z-index: 1;}#sk-container-id-5 div.sk-parallel {display: flex;align-items: stretch;justify-content: center;background-color: white;position: relative;}#sk-container-id-5 div.sk-item::before, #sk-container-id-5 div.sk-parallel-item::before {content: \"\";position: absolute;border-left: 1px solid gray;box-sizing: border-box;top: 0;bottom: 0;left: 50%;z-index: -1;}#sk-container-id-5 div.sk-parallel-item {display: flex;flex-direction: column;z-index: 1;position: relative;background-color: white;}#sk-container-id-5 div.sk-parallel-item:first-child::after {align-self: flex-end;width: 50%;}#sk-container-id-5 div.sk-parallel-item:last-child::after {align-self: flex-start;width: 50%;}#sk-container-id-5 div.sk-parallel-item:only-child::after {width: 0;}#sk-container-id-5 div.sk-dashed-wrapped {border: 1px dashed gray;margin: 0 0.4em 0.5em 0.4em;box-sizing: border-box;padding-bottom: 0.4em;background-color: white;}#sk-container-id-5 div.sk-label label {font-family: monospace;font-weight: bold;display: inline-block;line-height: 1.2em;}#sk-container-id-5 div.sk-label-container {text-align: center;}#sk-container-id-5 div.sk-container {/* jupyter's `normalize.less` sets `[hidden] { display: none; }` but bootstrap.min.css set `[hidden] { display: none !important; }` so we also need the `!important` here to be able to override the default hidden behavior on the sphinx rendered scikit-learn.org. See: https://github.com/scikit-learn/scikit-learn/issues/21755 */display: inline-block !important;position: relative;}#sk-container-id-5 div.sk-text-repr-fallback {display: none;}</style><div id=\"sk-container-id-5\" class=\"sk-top-container\"><div class=\"sk-text-repr-fallback\"><pre>LogisticRegression(random_state=0)</pre><b>In a Jupyter environment, please rerun this cell to show the HTML representation or trust the notebook. <br />On GitHub, the HTML representation is unable to render, please try loading this page with nbviewer.org.</b></div><div class=\"sk-container\" hidden><div class=\"sk-item\"><div class=\"sk-estimator sk-toggleable\"><input class=\"sk-toggleable__control sk-hidden--visually\" id=\"sk-estimator-id-5\" type=\"checkbox\" checked><label for=\"sk-estimator-id-5\" class=\"sk-toggleable__label sk-toggleable__label-arrow\">LogisticRegression</label><div class=\"sk-toggleable__content\"><pre>LogisticRegression(random_state=0)</pre></div></div></div></div></div>"
            ]
          },
          "metadata": {},
          "execution_count": 108
        }
      ],
      "source": [
        "classifier = LogisticRegression(random_state = 0)\n",
        "classifier.fit(X_train, Y_train)"
      ]
    },
    {
      "cell_type": "code",
      "execution_count": 109,
      "metadata": {
        "id": "XAd9ud2L3iBn",
        "colab": {
          "base_uri": "https://localhost:8080/"
        },
        "outputId": "493998dd-28eb-4140-9af3-4edbef6841b1"
      },
      "outputs": [
        {
          "output_type": "stream",
          "name": "stdout",
          "text": [
            "(158938,)\n"
          ]
        }
      ],
      "source": [
        "Y_Pred = classifier.predict(X_test)\n",
        "# Y_pred.reshape(-1,1)\n",
        "print(Y_Pred.shape)"
      ]
    },
    {
      "cell_type": "code",
      "execution_count": 110,
      "metadata": {
        "id": "Il9_sCprbYR4",
        "colab": {
          "base_uri": "https://localhost:8080/",
          "height": 328
        },
        "outputId": "a51f8dc3-34d0-4384-f23d-3970176cbf7c"
      },
      "outputs": [
        {
          "output_type": "error",
          "ename": "ValueError",
          "evalue": "ignored",
          "traceback": [
            "\u001b[0;31m---------------------------------------------------------------------------\u001b[0m",
            "\u001b[0;31mValueError\u001b[0m                                Traceback (most recent call last)",
            "\u001b[0;32m<ipython-input-110-88b3c01bb909>\u001b[0m in \u001b[0;36m<cell line: 1>\u001b[0;34m()\u001b[0m\n\u001b[0;32m----> 1\u001b[0;31m \u001b[0maccuracy\u001b[0m \u001b[0;34m=\u001b[0m \u001b[0mclassifier\u001b[0m\u001b[0;34m.\u001b[0m\u001b[0mscore\u001b[0m\u001b[0;34m(\u001b[0m\u001b[0mY_test\u001b[0m\u001b[0;34m,\u001b[0m \u001b[0mY_Pred\u001b[0m\u001b[0;34m)\u001b[0m\u001b[0;34m\u001b[0m\u001b[0;34m\u001b[0m\u001b[0m\n\u001b[0m\u001b[1;32m      2\u001b[0m \u001b[0mprint\u001b[0m\u001b[0;34m(\u001b[0m\u001b[0maccuracy\u001b[0m\u001b[0;34m)\u001b[0m\u001b[0;34m\u001b[0m\u001b[0;34m\u001b[0m\u001b[0m\n",
            "\u001b[0;32m/usr/local/lib/python3.10/dist-packages/sklearn/base.py\u001b[0m in \u001b[0;36mscore\u001b[0;34m(self, X, y, sample_weight)\u001b[0m\n\u001b[1;32m    666\u001b[0m         \u001b[0;32mfrom\u001b[0m \u001b[0;34m.\u001b[0m\u001b[0mmetrics\u001b[0m \u001b[0;32mimport\u001b[0m \u001b[0maccuracy_score\u001b[0m\u001b[0;34m\u001b[0m\u001b[0;34m\u001b[0m\u001b[0m\n\u001b[1;32m    667\u001b[0m \u001b[0;34m\u001b[0m\u001b[0m\n\u001b[0;32m--> 668\u001b[0;31m         \u001b[0;32mreturn\u001b[0m \u001b[0maccuracy_score\u001b[0m\u001b[0;34m(\u001b[0m\u001b[0my\u001b[0m\u001b[0;34m,\u001b[0m \u001b[0mself\u001b[0m\u001b[0;34m.\u001b[0m\u001b[0mpredict\u001b[0m\u001b[0;34m(\u001b[0m\u001b[0mX\u001b[0m\u001b[0;34m)\u001b[0m\u001b[0;34m,\u001b[0m \u001b[0msample_weight\u001b[0m\u001b[0;34m=\u001b[0m\u001b[0msample_weight\u001b[0m\u001b[0;34m)\u001b[0m\u001b[0;34m\u001b[0m\u001b[0;34m\u001b[0m\u001b[0m\n\u001b[0m\u001b[1;32m    669\u001b[0m \u001b[0;34m\u001b[0m\u001b[0m\n\u001b[1;32m    670\u001b[0m     \u001b[0;32mdef\u001b[0m \u001b[0m_more_tags\u001b[0m\u001b[0;34m(\u001b[0m\u001b[0mself\u001b[0m\u001b[0;34m)\u001b[0m\u001b[0;34m:\u001b[0m\u001b[0;34m\u001b[0m\u001b[0;34m\u001b[0m\u001b[0m\n",
            "\u001b[0;32m/usr/local/lib/python3.10/dist-packages/sklearn/linear_model/_base.py\u001b[0m in \u001b[0;36mpredict\u001b[0;34m(self, X)\u001b[0m\n\u001b[1;32m    417\u001b[0m         \"\"\"\n\u001b[1;32m    418\u001b[0m         \u001b[0mxp\u001b[0m\u001b[0;34m,\u001b[0m \u001b[0m_\u001b[0m \u001b[0;34m=\u001b[0m \u001b[0mget_namespace\u001b[0m\u001b[0;34m(\u001b[0m\u001b[0mX\u001b[0m\u001b[0;34m)\u001b[0m\u001b[0;34m\u001b[0m\u001b[0;34m\u001b[0m\u001b[0m\n\u001b[0;32m--> 419\u001b[0;31m         \u001b[0mscores\u001b[0m \u001b[0;34m=\u001b[0m \u001b[0mself\u001b[0m\u001b[0;34m.\u001b[0m\u001b[0mdecision_function\u001b[0m\u001b[0;34m(\u001b[0m\u001b[0mX\u001b[0m\u001b[0;34m)\u001b[0m\u001b[0;34m\u001b[0m\u001b[0;34m\u001b[0m\u001b[0m\n\u001b[0m\u001b[1;32m    420\u001b[0m         \u001b[0;32mif\u001b[0m \u001b[0mlen\u001b[0m\u001b[0;34m(\u001b[0m\u001b[0mscores\u001b[0m\u001b[0;34m.\u001b[0m\u001b[0mshape\u001b[0m\u001b[0;34m)\u001b[0m \u001b[0;34m==\u001b[0m \u001b[0;36m1\u001b[0m\u001b[0;34m:\u001b[0m\u001b[0;34m\u001b[0m\u001b[0;34m\u001b[0m\u001b[0m\n\u001b[1;32m    421\u001b[0m             \u001b[0mindices\u001b[0m \u001b[0;34m=\u001b[0m \u001b[0mxp\u001b[0m\u001b[0;34m.\u001b[0m\u001b[0mastype\u001b[0m\u001b[0;34m(\u001b[0m\u001b[0mscores\u001b[0m \u001b[0;34m>\u001b[0m \u001b[0;36m0\u001b[0m\u001b[0;34m,\u001b[0m \u001b[0mint\u001b[0m\u001b[0;34m)\u001b[0m\u001b[0;34m\u001b[0m\u001b[0;34m\u001b[0m\u001b[0m\n",
            "\u001b[0;32m/usr/local/lib/python3.10/dist-packages/sklearn/linear_model/_base.py\u001b[0m in \u001b[0;36mdecision_function\u001b[0;34m(self, X)\u001b[0m\n\u001b[1;32m    398\u001b[0m         \u001b[0mxp\u001b[0m\u001b[0;34m,\u001b[0m \u001b[0m_\u001b[0m \u001b[0;34m=\u001b[0m \u001b[0mget_namespace\u001b[0m\u001b[0;34m(\u001b[0m\u001b[0mX\u001b[0m\u001b[0;34m)\u001b[0m\u001b[0;34m\u001b[0m\u001b[0;34m\u001b[0m\u001b[0m\n\u001b[1;32m    399\u001b[0m \u001b[0;34m\u001b[0m\u001b[0m\n\u001b[0;32m--> 400\u001b[0;31m         \u001b[0mX\u001b[0m \u001b[0;34m=\u001b[0m \u001b[0mself\u001b[0m\u001b[0;34m.\u001b[0m\u001b[0m_validate_data\u001b[0m\u001b[0;34m(\u001b[0m\u001b[0mX\u001b[0m\u001b[0;34m,\u001b[0m \u001b[0maccept_sparse\u001b[0m\u001b[0;34m=\u001b[0m\u001b[0;34m\"csr\"\u001b[0m\u001b[0;34m,\u001b[0m \u001b[0mreset\u001b[0m\u001b[0;34m=\u001b[0m\u001b[0;32mFalse\u001b[0m\u001b[0;34m)\u001b[0m\u001b[0;34m\u001b[0m\u001b[0;34m\u001b[0m\u001b[0m\n\u001b[0m\u001b[1;32m    401\u001b[0m         \u001b[0mscores\u001b[0m \u001b[0;34m=\u001b[0m \u001b[0msafe_sparse_dot\u001b[0m\u001b[0;34m(\u001b[0m\u001b[0mX\u001b[0m\u001b[0;34m,\u001b[0m \u001b[0mself\u001b[0m\u001b[0;34m.\u001b[0m\u001b[0mcoef_\u001b[0m\u001b[0;34m.\u001b[0m\u001b[0mT\u001b[0m\u001b[0;34m,\u001b[0m \u001b[0mdense_output\u001b[0m\u001b[0;34m=\u001b[0m\u001b[0;32mTrue\u001b[0m\u001b[0;34m)\u001b[0m \u001b[0;34m+\u001b[0m \u001b[0mself\u001b[0m\u001b[0;34m.\u001b[0m\u001b[0mintercept_\u001b[0m\u001b[0;34m\u001b[0m\u001b[0;34m\u001b[0m\u001b[0m\n\u001b[1;32m    402\u001b[0m         \u001b[0;32mreturn\u001b[0m \u001b[0mxp\u001b[0m\u001b[0;34m.\u001b[0m\u001b[0mreshape\u001b[0m\u001b[0;34m(\u001b[0m\u001b[0mscores\u001b[0m\u001b[0;34m,\u001b[0m \u001b[0;34m-\u001b[0m\u001b[0;36m1\u001b[0m\u001b[0;34m)\u001b[0m \u001b[0;32mif\u001b[0m \u001b[0mscores\u001b[0m\u001b[0;34m.\u001b[0m\u001b[0mshape\u001b[0m\u001b[0;34m[\u001b[0m\u001b[0;36m1\u001b[0m\u001b[0;34m]\u001b[0m \u001b[0;34m==\u001b[0m \u001b[0;36m1\u001b[0m \u001b[0;32melse\u001b[0m \u001b[0mscores\u001b[0m\u001b[0;34m\u001b[0m\u001b[0;34m\u001b[0m\u001b[0m\n",
            "\u001b[0;32m/usr/local/lib/python3.10/dist-packages/sklearn/base.py\u001b[0m in \u001b[0;36m_validate_data\u001b[0;34m(self, X, y, reset, validate_separately, **check_params)\u001b[0m\n\u001b[1;32m    586\u001b[0m \u001b[0;34m\u001b[0m\u001b[0m\n\u001b[1;32m    587\u001b[0m         \u001b[0;32mif\u001b[0m \u001b[0;32mnot\u001b[0m \u001b[0mno_val_X\u001b[0m \u001b[0;32mand\u001b[0m \u001b[0mcheck_params\u001b[0m\u001b[0;34m.\u001b[0m\u001b[0mget\u001b[0m\u001b[0;34m(\u001b[0m\u001b[0;34m\"ensure_2d\"\u001b[0m\u001b[0;34m,\u001b[0m \u001b[0;32mTrue\u001b[0m\u001b[0;34m)\u001b[0m\u001b[0;34m:\u001b[0m\u001b[0;34m\u001b[0m\u001b[0;34m\u001b[0m\u001b[0m\n\u001b[0;32m--> 588\u001b[0;31m             \u001b[0mself\u001b[0m\u001b[0;34m.\u001b[0m\u001b[0m_check_n_features\u001b[0m\u001b[0;34m(\u001b[0m\u001b[0mX\u001b[0m\u001b[0;34m,\u001b[0m \u001b[0mreset\u001b[0m\u001b[0;34m=\u001b[0m\u001b[0mreset\u001b[0m\u001b[0;34m)\u001b[0m\u001b[0;34m\u001b[0m\u001b[0;34m\u001b[0m\u001b[0m\n\u001b[0m\u001b[1;32m    589\u001b[0m \u001b[0;34m\u001b[0m\u001b[0m\n\u001b[1;32m    590\u001b[0m         \u001b[0;32mreturn\u001b[0m \u001b[0mout\u001b[0m\u001b[0;34m\u001b[0m\u001b[0;34m\u001b[0m\u001b[0m\n",
            "\u001b[0;32m/usr/local/lib/python3.10/dist-packages/sklearn/base.py\u001b[0m in \u001b[0;36m_check_n_features\u001b[0;34m(self, X, reset)\u001b[0m\n\u001b[1;32m    387\u001b[0m \u001b[0;34m\u001b[0m\u001b[0m\n\u001b[1;32m    388\u001b[0m         \u001b[0;32mif\u001b[0m \u001b[0mn_features\u001b[0m \u001b[0;34m!=\u001b[0m \u001b[0mself\u001b[0m\u001b[0;34m.\u001b[0m\u001b[0mn_features_in_\u001b[0m\u001b[0;34m:\u001b[0m\u001b[0;34m\u001b[0m\u001b[0;34m\u001b[0m\u001b[0m\n\u001b[0;32m--> 389\u001b[0;31m             raise ValueError(\n\u001b[0m\u001b[1;32m    390\u001b[0m                 \u001b[0;34mf\"X has {n_features} features, but {self.__class__.__name__} \"\u001b[0m\u001b[0;34m\u001b[0m\u001b[0;34m\u001b[0m\u001b[0m\n\u001b[1;32m    391\u001b[0m                 \u001b[0;34mf\"is expecting {self.n_features_in_} features as input.\"\u001b[0m\u001b[0;34m\u001b[0m\u001b[0;34m\u001b[0m\u001b[0m\n",
            "\u001b[0;31mValueError\u001b[0m: X has 1 features, but LogisticRegression is expecting 12 features as input."
          ]
        }
      ],
      "source": [
        "accuracy = classifier.score(Y_test, Y_Pred)\n",
        "print(accuracy)"
      ]
    },
    {
      "cell_type": "code",
      "execution_count": null,
      "metadata": {
        "id": "q3XbsHCW3iFB"
      },
      "outputs": [],
      "source": [
        "cnf_matrix = confusion_matrix(Y_test, Y_Pred)\n",
        "get_confusion_matrix(cnf_matrix)"
      ]
    },
    {
      "cell_type": "code",
      "source": [
        "plt.figure()\n",
        "plt.plot(range(1, K_max+1), accuracy_LG, color = 'red', label = \"Accuracy\")\n",
        "plt.grid()\n",
        "plt.xlabel('Principal Components')\n",
        "plt.ylabel('Metrics')\n",
        "plt.title('Accuracy over Principal Components')\n",
        "plt.legend()"
      ],
      "metadata": {
        "id": "envhDQIKL1i3"
      },
      "execution_count": null,
      "outputs": []
    },
    {
      "cell_type": "code",
      "execution_count": null,
      "metadata": {
        "id": "3NYD4dTJHf9A"
      },
      "outputs": [],
      "source": [
        "# Import the necessary libraries\n",
        "from sklearn.metrics import mean_squared_error, mean_absolute_error\n",
        "import numpy as np\n",
        "\n",
        "# Calculate the mean squared error (MSE) between the predicted targets and the actual targets\n",
        "mse = mean_squared_error(Y_test, Y_pred)\n",
        "\n",
        "# Calculate the root mean squared error (RMSE)\n",
        "rmse = np.sqrt(mse)\n",
        "\n",
        "# Calculate the mean absolute error (MAE)\n",
        "mae = mean_absolute_error(Y_test, Y_pred)\n",
        "\n",
        "# Print the evaluation metrics\n",
        "print(\"Mean Squared Error:\", mse)\n",
        "print(\"Root Mean Squared Error:\", rmse)\n",
        "print(\"Mean Absolute Error:\", mae)"
      ]
    },
    {
      "cell_type": "code",
      "source": [
        "accuracy12 = {'Accuracy of #1':accuracy, 'Accuracy of #2 with Kfold 5':accuracy_LG}#,'Accuracy of #2 with Kfold 10':acc2_2}\n",
        "names = list(accuracy12.keys())\n",
        "values = list(accuracy12.values())\n",
        "fig = plt.figure(figsize = (8, 3))\n",
        "# creating the bar plot\n",
        "plt.bar(names, values, width = 0.2)\n",
        "plt.xlabel(\"Experiments\")\n",
        "plt.ylabel(\"Accuracy values\")\n",
        "plt.title(\"Accuracy Comparision between Problem 1 and 2\")\n",
        "plt.show()\n"
      ],
      "metadata": {
        "id": "pZBSqpQSL13c"
      },
      "execution_count": null,
      "outputs": []
    },
    {
      "cell_type": "code",
      "source": [],
      "metadata": {
        "id": "tA9qpxjSQHK7"
      },
      "execution_count": null,
      "outputs": []
    },
    {
      "cell_type": "code",
      "source": [],
      "metadata": {
        "id": "bjWuDSqsQHN8"
      },
      "execution_count": null,
      "outputs": []
    },
    {
      "cell_type": "code",
      "execution_count": null,
      "metadata": {
        "id": "3UzQ6sCSgPCI"
      },
      "outputs": [],
      "source": [
        "# for k in K: \n",
        "    \n",
        "#     pca = PCA(n_components = k)\n",
        "#     principalComponents = pca.fit_transform(X)\n",
        "\n",
        "#     X_train, X_test, Y_train, Y_test = train_test_split(X, Y, train_size = 0.8, test_size = 0.2)\n",
        "\n",
        "#     # Linear Support vector regression model\n",
        "#     model = SVR(kernel = 'linear', C = 1E3)\n",
        "#     model.fit(X_train, Y_train)\n",
        "\n",
        "#     Y_pred = model.predict(X_test)\n",
        "\n",
        "#     accuracy[k] = model.score(X_test, Y_test)\n",
        "#     mse[k] = mean_squared_error(Y_test, Y_pred)\n",
        "\n"
      ]
    },
    {
      "cell_type": "code",
      "execution_count": null,
      "metadata": {
        "id": "IQbnRzuXS0Qp"
      },
      "outputs": [],
      "source": [
        "svr_rbf=SVR(kernel='rbf',C=1e3,gamma=0.1)\n",
        "y_rbf=svr_rbf.fit(X_train, Y_train).predict(X_test)\n",
        "accuracy_rbf = svr_rbf.score(X_test, y_rbf)\n",
        "print(accuracy_rbf)"
      ]
    },
    {
      "cell_type": "code",
      "execution_count": null,
      "metadata": {
        "id": "c8s7cpL_aPqI"
      },
      "outputs": [],
      "source": [
        "svr_poly=SVR(kernel='poly',C=1e3,degree=2)\n",
        "y_poly=svr_poly.fit(X_train, Y_train).predict(X_test)\n",
        "accuracy_poly = svr_poly.score(X_test, y_poly)\n",
        "print(accuracy_poly)"
      ]
    },
    {
      "cell_type": "code",
      "source": [
        "svr_lin=SVR(kernel='linear',C=1e3)\n",
        "y_lin=svr_lin.fit(X_train, Y_train).predict(X_test)\n",
        "accuracy_lin =svr_lin.score(X_test, y_lin)\n",
        "print(accuracy_lin)\n",
        "\n"
      ],
      "metadata": {
        "id": "k60lYMaJRzs7"
      },
      "execution_count": null,
      "outputs": []
    },
    {
      "cell_type": "code",
      "source": [],
      "metadata": {
        "id": "nJdOBWXZRz2x"
      },
      "execution_count": null,
      "outputs": []
    },
    {
      "cell_type": "code",
      "execution_count": null,
      "metadata": {
        "id": "ni1ve0S_9HhJ"
      },
      "outputs": [],
      "source": [
        "print(len(Y_train),len(Y_test))"
      ]
    },
    {
      "cell_type": "code",
      "execution_count": null,
      "metadata": {
        "id": "wFA7lzryad9q"
      },
      "outputs": [],
      "source": [
        "lw=2\n",
        "plt.scatter(Y_test, X_test[:,0],color='darkorange', label='data')\n",
        "plt.scatter(Y_test, X_test[:,1],color='darkorange')\n",
        "plt.scatter(Y_test, X_test[:,2],color='darkorange')\n",
        "plt.scatter(Y_test, X_test[:,3],color='darkorange')\n",
        "plt.scatter(Y_test, X_test[:,4],color='darkorange')\n",
        "plt.scatter(Y_test, X_test[:,5],color='darkorange')\n",
        "plt.scatter(Y_test, X_test[:,6],color='darkorange')\n",
        "plt.scatter(Y_test, X_test[:,7],color='darkorange')\n",
        "plt.scatter(Y_test, X_test[:,8],color='darkorange')\n",
        "plt.scatter(Y_test, X_test[:,9],color='darkorange')\n",
        "plt.scatter(Y_test, X_test[:,10],color='darkorange')\n",
        "plt.scatter(Y_test, X_test[:,11],color='darkorange')\n",
        "#plt.scatter(Y_test, X_test[:,12],color='darkorange')\n",
        "plt.plot(Y_test, y_rbf,color='navy',lw=lw, label='RBF model')\n",
        "plt.plot(Y_test, y_lin,color='c',lw=lw, label='Linear model')\n",
        "plt.plot(Y_test, y_poly,color='cornflowerblue',lw=lw, label='Polynommial model')\n",
        "plt.xlabel('data')\n",
        "plt.ylabel('target')\n",
        "plt.title('support vector Regression')\n",
        "plt.legend()\n",
        "plt.show()\n"
      ]
    },
    {
      "cell_type": "code",
      "execution_count": null,
      "metadata": {
        "id": "c6-wAIccaeAZ"
      },
      "outputs": [],
      "source": []
    },
    {
      "cell_type": "code",
      "execution_count": null,
      "metadata": {
        "id": "Ni1Si6VpHf5P"
      },
      "outputs": [],
      "source": [
        "# # Create an SVM regression model with a linear kernel\n",
        "# model = SVR(kernel='linear')\n",
        "# # Train the model on the training set\n",
        "# model.fit(X_train, Y_train)\n",
        "# # Use the trained model to make predictions on the testing set\n",
        "# Y_pred = model.predict(X_test)"
      ]
    },
    {
      "cell_type": "code",
      "execution_count": null,
      "metadata": {
        "id": "xw6ATYflgPDK"
      },
      "outputs": [],
      "source": []
    },
    {
      "cell_type": "code",
      "execution_count": null,
      "metadata": {
        "id": "y65PIMFCgPGm"
      },
      "outputs": [],
      "source": []
    },
    {
      "cell_type": "code",
      "execution_count": null,
      "metadata": {
        "id": "tBBCULNDgPJg"
      },
      "outputs": [],
      "source": []
    },
    {
      "cell_type": "code",
      "execution_count": null,
      "metadata": {
        "id": "U5jvItbROEMJ"
      },
      "outputs": [],
      "source": []
    },
    {
      "cell_type": "code",
      "execution_count": null,
      "metadata": {
        "id": "1PRslqnUOEQq"
      },
      "outputs": [],
      "source": []
    },
    {
      "cell_type": "code",
      "execution_count": null,
      "metadata": {
        "id": "WrDT1ckVbYMH"
      },
      "outputs": [],
      "source": []
    },
    {
      "cell_type": "code",
      "execution_count": null,
      "metadata": {
        "id": "b5YgxMUSbYV-"
      },
      "outputs": [],
      "source": []
    },
    {
      "cell_type": "code",
      "execution_count": null,
      "metadata": {
        "id": "N2bgzPG43iOo"
      },
      "outputs": [],
      "source": []
    }
  ],
  "metadata": {
    "colab": {
      "provenance": []
    },
    "kernelspec": {
      "display_name": "Python 3",
      "name": "python3"
    },
    "language_info": {
      "name": "python"
    }
  },
  "nbformat": 4,
  "nbformat_minor": 0
}